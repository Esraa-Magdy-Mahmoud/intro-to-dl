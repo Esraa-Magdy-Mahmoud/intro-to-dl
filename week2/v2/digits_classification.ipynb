{
 "cells": [
  {
   "cell_type": "code",
   "execution_count": null,
   "metadata": {},
   "outputs": [],
   "source": [
    "# set tf 1.x for colab\n",
    "%tensorflow_version 1.x"
   ]
  },
  {
   "cell_type": "markdown",
   "metadata": {
    "slideshow": {
     "slide_type": "slide"
    }
   },
   "source": [
    "# MNIST digits classification with TensorFlow"
   ]
  },
  {
   "cell_type": "markdown",
   "metadata": {},
   "source": [
    "<img src=\"images/mnist_sample.png\" style=\"width:30%\">"
   ]
  },
  {
   "cell_type": "code",
   "execution_count": null,
   "metadata": {},
   "outputs": [],
   "source": [
    "import numpy as np\n",
    "from sklearn.metrics import accuracy_score\n",
    "from matplotlib import pyplot as plt\n",
    "%matplotlib inline\n",
    "import tensorflow as tf\n",
    "print(\"We're using TF\", tf.__version__)\n",
    "\n",
    "import sys\n",
    "sys.path.append(\"../..\")\n",
    "import grading\n",
    "\n",
    "import matplotlib_utils\n",
    "from importlib import reload\n",
    "reload(matplotlib_utils)\n",
    "\n",
    "import grading_utils\n",
    "reload(grading_utils)\n",
    "\n",
    "import keras_utils\n",
    "from keras_utils import reset_tf_session"
   ]
  },
  {
   "cell_type": "markdown",
   "metadata": {},
   "source": [
    "# Fill in your Coursera token and email\n",
    "To successfully submit your answers to our grader, please fill in your Coursera submission token and email"
   ]
  },
  {
   "cell_type": "code",
   "execution_count": 112,
   "metadata": {},
   "outputs": [],
   "source": [
    "grader = grading.Grader(assignment_key=\"XtD7ho3TEeiHQBLWejjYAA\", \n",
    "                        all_parts=[\"9XaAS\", \"vmogZ\", \"RMv95\", \"i8bgs\", \"rE763\"])"
   ]
  },
  {
   "cell_type": "code",
   "execution_count": 113,
   "metadata": {},
   "outputs": [],
   "source": [
    "# token expires every 30 min\n",
    "COURSERA_TOKEN = \"ZDjCqW7cdgjzp9wa\"\n",
    "COURSERA_EMAIL = \"esraaelelimy@gmail.com\""
   ]
  },
  {
   "cell_type": "markdown",
   "metadata": {},
   "source": [
    "# Look at the data\n",
    "\n",
    "In this task we have 50000 28x28 images of digits from 0 to 9.\n",
    "We will train a classifier on this data."
   ]
  },
  {
   "cell_type": "code",
   "execution_count": null,
   "metadata": {},
   "outputs": [],
   "source": [
    "import preprocessed_mnist\n",
    "X_train, y_train, X_val, y_val, X_test, y_test = preprocessed_mnist.load_dataset()"
   ]
  },
  {
   "cell_type": "code",
   "execution_count": null,
   "metadata": {},
   "outputs": [],
   "source": [
    "# X contains rgb values divided by 255\n",
    "print(\"X_train [shape %s] sample patch:\\n\" % (str(X_train.shape)), X_train[1, 15:20, 5:10])\n",
    "print(\"A closeup of a sample patch:\")\n",
    "plt.imshow(X_train[1, 15:20, 5:10], cmap=\"Greys\")\n",
    "plt.show()\n",
    "print(\"And the whole sample:\")\n",
    "plt.imshow(X_train[1], cmap=\"Greys\")\n",
    "plt.show()\n",
    "print(\"y_train [shape %s] 10 samples:\\n\" % (str(y_train.shape)), y_train[:10])"
   ]
  },
  {
   "cell_type": "markdown",
   "metadata": {},
   "source": [
    "# Linear model\n",
    "\n",
    "Your task is to train a linear classifier $\\vec{x} \\rightarrow y$ with SGD using TensorFlow.\n",
    "\n",
    "You will need to calculate a logit (a linear transformation) $z_k$ for each class: \n",
    "$$z_k = \\vec{x} \\cdot \\vec{w_k} + b_k \\quad k = 0..9$$\n",
    "\n",
    "And transform logits $z_k$ to valid probabilities $p_k$ with softmax: \n",
    "$$p_k = \\frac{e^{z_k}}{\\sum_{i=0}^{9}{e^{z_i}}} \\quad k = 0..9$$\n",
    "\n",
    "We will use a cross-entropy loss to train our multi-class classifier:\n",
    "$$\\text{cross-entropy}(y, p) = -\\sum_{k=0}^{9}{\\log(p_k)[y = k]}$$ \n",
    "\n",
    "where \n",
    "$$\n",
    "[x]=\\begin{cases}\n",
    "       1, \\quad \\text{if $x$ is true} \\\\\n",
    "       0, \\quad \\text{otherwise}\n",
    "    \\end{cases}\n",
    "$$\n",
    "\n",
    "Cross-entropy minimization pushes $p_k$ close to 1 when $y = k$, which is what we want.\n",
    "\n",
    "Here's the plan:\n",
    "* Flatten the images (28x28 -> 784) with `X_train.reshape((X_train.shape[0], -1))` to simplify our linear model implementation (-1 means np will calculate the dimension for you)\n",
    "* Use a matrix placeholder for flattened `X_train`\n",
    "* Convert `y_train` to one-hot encoded vectors that are needed for cross-entropy\n",
    "* Use a shared variable `W` for all weights (a column $\\vec{w_k}$ per class) and `b` for all biases.\n",
    "* Aim for ~0.93 validation accuracy"
   ]
  },
  {
   "cell_type": "code",
   "execution_count": null,
   "metadata": {},
   "outputs": [],
   "source": [
    "X_train_flat = X_train.reshape((X_train.shape[0], -1))\n",
    "print(X_train_flat.shape)\n",
    "\n",
    "X_val_flat = X_val.reshape((X_val.shape[0], -1))\n",
    "print(X_val_flat.shape)"
   ]
  },
  {
   "cell_type": "code",
   "execution_count": null,
   "metadata": {},
   "outputs": [],
   "source": [
    "import keras\n",
    "\n",
    "y_train_oh = keras.utils.to_categorical(y_train, 10)\n",
    "y_val_oh = keras.utils.to_categorical(y_val, 10)\n",
    "\n",
    "print(y_train_oh.shape)\n",
    "print(y_train_oh[:3], y_train[:3])"
   ]
  },
  {
   "cell_type": "code",
   "execution_count": 116,
   "metadata": {},
   "outputs": [],
   "source": [
    "# run this again if you remake your graph\n",
    "s = reset_tf_session()"
   ]
  },
  {
   "cell_type": "code",
   "execution_count": 117,
   "metadata": {},
   "outputs": [],
   "source": [
    "# Model parameters: W and b\n",
    "W = tf.get_variable(\"W\", shape=(784, 10), dtype=tf.float32) \n",
    "b = tf.get_variable(\"b\", shape=(1, 10), dtype=tf.float32)"
   ]
  },
  {
   "cell_type": "code",
   "execution_count": 118,
   "metadata": {},
   "outputs": [],
   "source": [
    "# Placeholders for the input data\n",
    "input_X = tf.placeholder(tf.float32, (None, 784),name=\"X\")  ### tf.placeholder(...) for flat X with shape[0] = None for any batch size\n",
    "input_y = tf.placeholder(tf.float32, (None, 10),name=\"y_target\") ### tf.placeholder(...) for one-hot encoded true labels"
   ]
  },
  {
   "cell_type": "code",
   "execution_count": 119,
   "metadata": {},
   "outputs": [],
   "source": [
    "# Compute predictions\n",
    "logits = (input_X @ W) + b### logits for input_X, resulting shape should be [input_X.shape[0], 10]\n",
    "probas = tf.nn.softmax(logits,-1,'softmax') ### apply tf.nn.softmax(logits,axis,operation_name) to logits\n",
    "classes = tf.argmax(probas,-1) ### apply tf.argmax(tensor,axis,name,output) to find a class index with highest probability\n",
    "\n",
    "# Loss should be a scalar number: average loss over all the objects with tf.reduce_mean().\n",
    "# Use tf.nn.softmax_cross_entropy_with_logits on top of one-hot encoded input_y and logits.\n",
    "# It is identical to calculating cross-entropy on top of probas, but is more numerically friendly (read the docs).\n",
    "loss = tf.reduce_mean(tf.nn.softmax_cross_entropy_with_logits(labels = input_y,logits = logits)) ### cross-entropy loss\n",
    "\n",
    "# Use a default tf.train.AdamOptimizer(learning_rate,beta1,beta2,epsilon,use_locking,name) to get an SGD step\n",
    "### optimizer step that minimizes the loss\n",
    "optimizer = tf.train.AdamOptimizer(0.001,0.9,0.9,1e-8)\n",
    "step = optimizer.minimize(loss)"
   ]
  },
  {
   "cell_type": "code",
   "execution_count": 120,
   "metadata": {
    "scrolled": false
   },
   "outputs": [
    {
     "output_type": "display_data",
     "data": {
      "text/html": "<img src=\"data:image/jpeg;base64,/9j/4AAQSkZJRgABAQAAAQABAAD/2wBDAAIBAQEBAQIBAQECAgICAgQDAgICAgUEBAMEBgUGBgYFBgYGBwkIBgcJBwYGCAsICQoKCgoKBggLDAsKDAkKCgr/2wBDAQICAgICAgUDAwUKBwYHCgoKCgoKCgoKCgoKCgoKCgoKCgoKCgoKCgoKCgoKCgoKCgoKCgoKCgoKCgoKCgoKCgr/wAARCAEgA2ADASIAAhEBAxEB/8QAHwAAAQUBAQEBAQEAAAAAAAAAAAECAwQFBgcICQoL/8QAtRAAAgEDAwIEAwUFBAQAAAF9AQIDAAQRBRIhMUEGE1FhByJxFDKBkaEII0KxwRVS0fAkM2JyggkKFhcYGRolJicoKSo0NTY3ODk6Q0RFRkdISUpTVFVWV1hZWmNkZWZnaGlqc3R1dnd4eXqDhIWGh4iJipKTlJWWl5iZmqKjpKWmp6ipqrKztLW2t7i5usLDxMXGx8jJytLT1NXW19jZ2uHi4%2BTl5ufo6erx8vP09fb3%2BPn6/8QAHwEAAwEBAQEBAQEBAQAAAAAAAAECAwQFBgcICQoL/8QAtREAAgECBAQDBAcFBAQAAQJ3AAECAxEEBSExBhJBUQdhcRMiMoEIFEKRobHBCSMzUvAVYnLRChYkNOEl8RcYGRomJygpKjU2Nzg5OkNERUZHSElKU1RVVldYWVpjZGVmZ2hpanN0dXZ3eHl6goOEhYaHiImKkpOUlZaXmJmaoqOkpaanqKmqsrO0tba3uLm6wsPExcbHyMnK0tPU1dbX2Nna4uPk5ebn6Onq8vP09fb3%2BPn6/9oADAMBAAIRAxEAPwD9/KKKKACiiigAooooAKKKKACiiigAooooAKKKKACiiigAooooAKKKKACiiigAooooAKKKKACiiigAooooAKKKKACiiigAooooAKKKKACiiigAooooAKKKKACiiigAooooAKKKKACiiigAooooAKKKKACiiigAooooAKKKKACiiigAooooAKKKKACiiigAooooAKKKKACiiigAooooAKKKKACiiigAooooAKKKKACiiigAooooAKKKKACiiigAooooAKKKKACiiigAooooAKKKKACiiigAooooAKKKKACiiigAooooAKKKKACiiigAooooAKKKKACiiigAooooAKKKKACiiigAooooAKKKKACvPfjt%2B1J8FP2b5NGsfil4g1Maj4ilnTQNB8OeF9R1zVNR8lVed4bHTbee5kjiVkMkixlI96biu5c%2BhV4N%2B0P8D/j5/wANJ%2BDv2tv2bLLwfrWueH/B2seFNX8KeOdcutLtLywv7mwuxcQXtraXj288U2noCpt3WVJSCUKK1ABpf/BTL9izWLvxPb2nxXv0h8FWsk/jLUrvwXrEFjoIS0iu9l5dy2iwWsrQzRskMjrJIWKorMrKL2n/APBQ/wDZK1HwBrXxFTx/q9vB4f1ay0vVdE1DwNrNrrkV5ebfscC6PNaLqEr3AYGER27eaAxTcFYjy2b9gH4y%2BMf2a/jn8NfGHinwppHin4o/FS38daHc6U1xeWFpeW0OiywQ3IkihkkiN3pRRwoyYHGDuJVaPi79i/8AaV%2BLmr/Ef45fG34S/CjWvFnjWx8KaPp/gKy%2BI2s2Wm6fY6Hcaldw3qa7b6al5DqDXOqTOksVoPJSKNFZiWcgHsviH9vv9mzwv4a8OeI9XvvG3meK0v5NE8P2vwm8SXGuSRWUscV3NJpMWntf28MLzQq8s0CIpmiy37xM%2Bmaz8RPBHhv4e3XxX8T%2BJbbSvDljo76rf6vqrfZYbSySIzPPMZdvlKsYLNvxtAOcYNfGHin9hH9s/WPgX4X8Nay3hfxV470a58RHRfGV/wDHbxNpGr%2BCLW%2BuUktLO11q1sJLzXIYkjhEy3qw/aTbReYCFGPUfjR/wTotfj1%2Bzb4n%2BHHxD%2BOfjW78d%2BMPhfH4Z17xS3jbWho818tpDE2oJoS3y2FuzzQLK3kRRSEPIBIrSM5AOkg/4KUfsZf8K58V/FbWPite6Jo3giysr7xQ/ifwdq%2Bk3NlZXkxhtb37LeWsVxJaSyK6pcxxtC3luQ%2BEYjj/AI3f8FZP2d/hn8ENU%2BMfgPRfFXiqbQfiD4X8L674Y/4QXXbHU7A6zqVrax3T2cmnNdeV5Fw88DeT5d48aW8MhknjB8r1T/gmJ8ZPHfwq8faR4i8DeG9G8Y%2BI9D0fR7DxDqv7RfjPxut3aWusW%2BoTRyf27AfsEZ8likUSzHe%2BGkxknv8A9qH9gz40/GD4g/F/4g%2BBfEPheOTxfB8LbzwlZ6tfXMSvf%2BE/EdzrUsN40dvJ5ENwGt4VljEzrl2MfyKrgHqFh/wUE/Zb1H4m2XwZh8T%2BJo/Fd5oun6xLoF38N9egudO0%2B9adILu/SSyU6dDut5VeS68pYiFEhQum6j4a/wCCmH7FPi3wZ4s%2BIWkfGC4TR/Bfgi68Zaxe6h4S1W0Fx4et0Z5tWsVntUbVLNVQ4nsxPGxZArEugbB0P9kP4ofEP4mfG74g/G9fD2gxfGj4O%2BHfCF1Y%2BE9duNRl0u4tE11Ltlnns7XzYwNViMT7FZikm6OPA3fN37Y37Kn7UOj/ALDHxS%2BJv7TF34AtIfhD%2BxT8QfBHhePwFqF5cNrzXukWxn1G6W5toBYqE0i3CWcbXAVppCZ22oKAPrPw9/wUl/Yy8TaHrHiPT/i1dQWehppU1/JqnhLVbJmtNSu1s7HUIUuLVGubCWdgovoQ9qoDO0qorMPT9E%2BLvw88R/FLX/gvofiH7T4k8LaXp%2Boa/YR2k22zgvmuBa7pinlF3%2ByzHy1cyKoRmVVkjLfJOofsz%2BIPFegeKfjb/wAFIvF/wz8J%2BBbf9nu5%2BHUlx4f8QTLay6beyQyXmq3k17BbpYOTBbCG2QzCAmT/AEiQsuOw/wCCPngP4u2f7I9r8f8A9pDUDf8AxJ%2BL15H4n8V6g9nJbtJCLSCy01fKl%2BeH/iX2lpI0TYKSzTZAYtkA%2BqqKKKACiiigAooooAKKKKACiiigAooooAKKKKACiiigAooooAKKKKACiiigAooooAKKKKACiiigAooooAKKKKACiiigAooooAK8R0j/AIKMfse6ld69Z6n8Urzw83hzw5c%2BINQk8a%2BEdV0GObSbd0jnv7WTUrWBb63R5IlaW2MqAyxjOXXPtN7FczWcsNndCCZ4mWKYx7/LYjhtp64POO9fmJq//BHL9uX4v6t4X1z43fHHQ31vw14P1Cz1DxRqHxW8TeJx4h1v7ZpV9a6idLvoobLSbaS50xfPsLIBRHJtWWQKgUA%2B2X/b/wD2YbX4aN8WNY8QeKtK0ttcg0axs9c%2BGWv2GqanfzIZIYLLTbixS9v2kQM6/Z4ZAyo7AkIxHReA/wBqz4H/ABH1%2By8J%2BHPEOqQ6vf8AhSfxJDpGteFdS0y7TTYbv7JLLLDeW8UkDrP8hhkVZe%2BzbzXk3xO%2BDn7bvxib4e/G3XPBvwq0P4h/Cjx1NrHh/wAM2vjjUr/Rdcs7jSbvTLmO4vn0qGaxmKXskkbpa3AjMQU%2BYJGxV%2BJPwG/bg1/4y%2BHf2mvA%2BjfCu08WX3ww1XwX4x0LUvFepSWGkLcX8N1a39lcJpwk1AxCN1kt5YrQSlxiWLHIB3Gk/wDBRv8AZA8R694F8LeFfiNqus6n8SfBuleLfBunaJ4H1m9nvND1F9lrqMiQWjNa2%2B7HmSTiNbcMpm8oMCdj4a/tufs3fFf4jXPwn8M%2BL9Ws9ft9LudThsvE/gzVtEW/sbeRI57uyl1G1gjv4I3liDy2zSIvmISQGUnyj9hT9hL4sfsw6/8ADjWfHniDw1dnwd%2Byl4R%2BGN%2B%2BkXM8rNq2lvM1zNF5kEe61bemxmKu235o0wK8a%2BGn/BKv9sbxP8UfC/ib9qb4w2eqRaf4A8V%2BF/GniaD4v%2BJNavPEUur2KW39p2umX0Men6EcqWNpaKUXKgTOI1WgD6l8J/8ABRf9kfxrosfirQfHeuf2Hcarpen6f4lvfh/rdrpWoy6lex2VlJaX09mlteQS3M0UYuIJHhBlQs4VgT6X4W%2BLvw88a/EDxT8LvC/iH7XrnguSzj8T2iWkwWxkuoPtEEZlZBG7tCVkKIzMiyRlgokTd8w%2BOPAnxF8K/wDBPbxp8CP%2BChnif4VeCPAWg/DSLQLb4meHfFt2GadI0trXUntLqzgTTZlmFvJDBHcXTGcoiOTtDdr/AMEr/h98WPDf7ImlfFX9oqwS3%2BJ3xYvpfHXxEhW3aL7Pf36xmG02N8yfZbGOys9pyQLXBoA%2BjaKKKACiiigAooooAKKKKACiiigAooooAKKKKACiiigAooooAKKKKACiiigAooooAKKKKACiiigAooooAKKKKACiiigAooooAKKx/iB8RPh/8JvB1/8AET4p%2BOtG8M%2BH9LiEmp674g1OKys7RCwUNLNMypGCzKMsQMkDvVe9%2BLPwr034aL8aNR%2BJfh%2B38HNpUepr4sn1mBNMNjIiul0Lov5XksjKwk3bSGBBwaAOgrxf49eP/wBov/hovwL8CPgL4z8FeH01/wAFeJde1fU/F/gu71ok6dd6Hbwwwx2%2BpWPlhv7UlZmZnz5aABeSfTPhz8T/AIafGLwlb%2BPvhH8Q9C8U6Fds62mteHNWhvrSYoxVwk0LMjFWBU4PBBBryf4iaytn/wAFKvhDorqMXvwT%2BIbK2edyat4NOPyZj%2BFJtLcqEJVHaPZv7tWXv%2BEH/wCChf8A0dB8Gf8Aww%2Brf/NRR/wg/wDwUL/6Og%2BDP/hh9W/%2BaivZqKZJ4z/wg/8AwUL/AOjoPgz/AOGH1b/5qKP%2BEH/4KF/9HQfBn/ww%2Brf/ADUV7NRQB4z/AMIP/wAFC/8Ao6D4M/8Ahh9W/wDmoo/4Qf8A4KF/9HQfBn/ww%2Brf/NRXs1FAHjP/AAg//BQv/o6D4M/%2BGH1b/wCaij/hB/8AgoX/ANHQfBn/AMMPq3/zUV7NRQB4z/wg/wDwUL/6Og%2BDP/hh9W/%2Baij/AIQf/goX/wBHQfBn/wAMPq3/AM1FezUUAeM/8IP/AMFC/wDo6D4M/wDhh9W/%2Baij/hB/%2BChf/R0HwZ/8MPq3/wA1FezUUAeM/wDCD/8ABQv/AKOg%2BDP/AIYfVv8A5qKP%2BEH/AOChf/R0HwZ/8MPq3/zUV7NRQB4z/wAIP/wUL/6Og%2BDP/hh9W/8Amoo/4Qf/AIKF/wDR0HwZ/wDDD6t/81FeneK7aC/udJ028iWW3uNTK3ELjKyKLeZwGHcblU4PpXlP/DX/APwTg/6Oi%2BCP/hbaP/8AHayq4ihQt7Wajfu0vzaPQwOU5tmnN9Sw1Sty2v7OnUqWvtfkhO17O17Xs7Xsyx/wg/8AwUL/AOjoPgz/AOGH1b/5qKP%2BEH/4KF/9HQfBn/ww%2Brf/ADUVX/4a/wD%2BCcH/AEdF8Ef/AAttH/8Ajta3gb9oH9hr4oeKbXwN8NPjd8J/EWt32/7Fo%2BheJdMu7q42I0j7IopGd9qIznAOFUk8A1nHG4KclGNWLb/vR/8AkjsrcMcT4elKrVwFeMYptt0K6SS1bbdFJJLdtpLq0Uf%2BEH/4KF/9HQfBn/ww%2Brf/ADUUf8IP/wAFC/8Ao6D4M/8Ahh9W/wDmoqT9q/40/Bz9kf4c6X8SvGnwnu9XtNT8Z6L4dS28N%2BEptRuEk1G%2BitFl8m1glkZU83dtC5kYLEmZJI1bM0n9rP8AY/8AEGr%2BKdB8N%2BGtf1S88EiJfFNvpXwb126ewnkSzdbRhFp7brvy7%2B1kNqu6dY3ZzGFikZOk8Mv/APCD/wDBQv8A6Og%2BDP8A4YfVv/moo/4Qf/goX/0dB8Gf/DD6t/8ANRWFr/7ZX7G3hzQbP4h6pqWgWnhN/BPijxNqmpah4dvoL2wtdAubO21ESWRsd8bW8l0UmimaK4jkRUWGX96Yer%2BGHx0/ZP8Ai9BfSeErnTbaXTteh0a7sPEvhefRbtb6aFJ4Ihb6hBBK/mxOrxMqFZVJKFgDgAo/8IP/AMFC/wDo6D4M/wDhh9W/%2Baij/hB/%2BChf/R0HwZ/8MPq3/wA1Fct%2B1j%2B0na/s%2BeIrvw58O/2ZNF8Zy%2BHPAF/438aifVY9Naw0W1kVCLUfZZhd3suLgxQOYIz9mffPHlN3pXxAg1qTwJp3ib9nj4KeCvFl7qcsMkMPiPWjo1mtm8bSeeZ4rG7kzwgCCEkmQZKgE0Ac9/wg/wDwUL/6Og%2BDP/hh9W/%2Baij/AIQf/goX/wBHQfBn/wAMPq3/AM1FeJS/8FFfCGrah8GtI8N/BP4U6RcfFrwzrGpxyfEj4mRaHbxXGn6hYWDWdhLHptyNTkmkvGkhKiLzIog4Hz4Xu9e/aq0TR/j5eeBIv2btDm8B6R8R9N8A6142Oqot3Br99YW93AI9P%2ByFZbTde2ds0/2lXWaZgIWSNpKAOy/4Qf8A4KF/9HQfBn/ww%2Brf/NRR/wAIP/wUL/6Og%2BDP/hh9W/8AmoryPx3/AMFB/h74Zb9onVPDn7M%2Bm6rofwK%2BE934y0zW5NRigj8Wy2g1SO7tYlFs5too7rSprb7STJudZSItiI0vW237RMV5%2By3dftI2nhr9mua0stWaO71mH44hvC1vYrhGnk1r%2BxcJMJiIzCbfbyp83J20Adf/AMIP/wAFC/8Ao6D4M/8Ahh9W/wDmoo/4Qf8A4KF/9HQfBn/ww%2Brf/NRXi0f/AAUL8Ma3rnwY8P6H8CvhfoU/xe8FT%2BILX/hZnxGTQQGiu7O2W0sNumXB1KSX7V5sOBD5kSq2BvwvW3n7YfgzTf2hpfhlqnwG8MWvhCL4pwfDn/hJ7jXYl1NvEE2lR6lEF0z7Jg2rLIkQl%2B0%2BaWbf5HlfvaAO8/4Qf/goX/0dB8Gf/DD6t/8ANRR/wg//AAUL/wCjoPgz/wCGH1b/AOaisP4R/F7xb8SJfjB4X139mPwNoXiX4Y%2BIk0zT7Kbxf51hqkcumWuoQT3F2NNVrLMd0qyKsNwIyhIaTpXIfDn9uf4a%2BOv2cfFnxptfgv4P1fVND8ZN4U8M2PgXxJDrOj%2BMtVa3tpYF0vVDaQ%2BfBvuTDPOYALZ7K9LBktmcgHpf/CD/APBQv/o6D4M/%2BGH1b/5qKP8AhB/%2BChf/AEdB8Gf/AAw%2Brf8AzUV5BP8A8FBfh3qnhv4Pjwz8JPhhpviP4p/DfSfGM%2BmfEP4iQaDZadBqEcX2axgujYTvf3ksjTpHEkCBltJWZoiUV%2B/%2BIPxa%2BIvw/wD2q/AXwFn/AGW/h5f%2BH/H%2Br38Nhr1l41mOqWVhZ6e91cX8%2BnNo4iEazC3ttq3bHfeQHOCwUA6D/hB/%2BChf/R0HwZ/8MPq3/wA1FH/CD/8ABQv/AKOg%2BDP/AIYfVv8A5qK8qk/4KBfC5/EXxntdL/Zutb3RvhpoXh%2B98IaxBcwA%2BNbjVdT1XSIoYY2hAtYv7S0qS3SdnkWVZBMoEewydFp/x7%2BIOqeAfHV3/wAMw/C7TPFvwt8RvYfEHTNe%2BIM8Gj2ln/ZdvqaX1rqEWiSy3CG3uoMrJaQFWWdcnywXAOz/AOEH/wCChf8A0dB8Gf8Aww%2Brf/NRVDwP44/as8HftWeHPgj8bviP8PfE2jeJvh74h1yGbwr8PL7Rbq0utNvtEt0VnuNXvkljdNUlJUIjBokIbGQdf4H%2BKpPjH%2Byd4a%2BPvij4K2PgbXvEvgm312Tw9BcLcy6PJNbCdITceRCzSIGUMfLTDAjHGTX8cf8AKQv4X/8AZGfHn/p28IUAezUUUUAFFFFABRRRQAV84/CbxV%2B3f8ddH17x34X%2BN/wk0DS7f4heKtD0vSr/AOD%2BqX9xFa6Xr1/pkLS3CeIoFlkeOzV2ZYo13OQFAAr6Orxn9g//AJIhrn/ZZviP/wCprrdAB/wg/wDwUL/6Og%2BDP/hh9W/%2Baij/AIQf/goX/wBHQfBn/wAMPq3/AM1FezUUAeM/8IP/AMFC/wDo6D4M/wDhh9W/%2Baij/hB/%2BChf/R0HwZ/8MPq3/wA1FezUUAeM/wDCD/8ABQv/AKOg%2BDP/AIYfVv8A5qKP%2BEH/AOChf/R0HwZ/8MPq3/zUV7NRQB4z/wAIP/wUL/6Og%2BDP/hh9W/8Amoo/4Qf/AIKF/wDR0HwZ/wDDD6t/81FezUUAeM/8IP8A8FC/%2BjoPgz/4YfVv/moo/wCEH/4KF/8AR0HwZ/8ADD6t/wDNRXs1FAHjP/CD/wDBQv8A6Og%2BDP8A4YfVv/moo/4Qf/goX/0dB8Gf/DD6t/8ANRXs1FAHjP8Awg//AAUL/wCjoPgz/wCGH1b/AOaij/hB/wDgoX/0dB8Gf/DD6t/81FezUUAeM/8ACD/8FC/%2BjoPgz/4YfVv/AJqKP%2BEH/wCChf8A0dB8Gf8Aww%2Brf/NRXs1FAHjP/CD/APBQv/o6D4M/%2BGH1b/5qKP8AhB/%2BChf/AEdB8Gf/AAw%2Brf8AzUV7NRQB4z/wg/8AwUL/AOjoPgz/AOGH1b/5qKP%2BEH/4KF/9HQfBn/ww%2Brf/ADUV7NRQB4z/AMIP/wAFC/8Ao6D4M/8Ahh9W/wDmoo/4Qf8A4KF/9HQfBn/ww%2Brf/NRXs1cz4w%2BNPwc%2BHkhi8f8AxZ8M6G6/eXWNet7Uj8JHFTOcKavJpLzaX52InUp0o805JLzaX5tHn/8Awg//AAUL/wCjoPgz/wCGH1b/AOaij/hB/wDgoX/0dB8Gf/DD6t/81FN17/goz%2BwP4acx6p%2B2P8Niy/eS18YWlwR7EROxz7VzNx/wVz/4JuWtx9lk/a38MlvWMXDr/wB9LER%2Btcc80yyDtKvBf9vx/wDkjgnnWT03aeJpr/t%2BH/yR1H/CD/8ABQv/AKOg%2BDP/AIYfVv8A5qKP%2BEH/AOChf/R0HwZ/8MPq3/zUVymrf8Fe/wDgmxounNql5%2B1r4ceJeq2kNzcSfhHFEzn8q5pf%2BC0P7Iur/v8A4f8AhT4oeLLU/cvvDnw1v5YX%2BhkRD%2BlZSzrKIOzxEPlJP8uYxnxDkMHZ4qnfykm/ujzP8D1D/hB/%2BChf/R0HwZ/8MPq3/wA1FH/CD/8ABQv/AKOg%2BDP/AIYfVv8A5qK8w/4fA/CEfO37K37QIi/57n4UXGz/ANGZ/Sj/AIfG/s%2Bn5I/gP8bnl7wL8Lbrf/PFT/bmUf8AP5f%2BTf8AyBH%2BsmRf9BEf/Jv/AJA9P/4Qf/goX/0dB8Gf/DD6t/8ANRR/wg//AAUL/wCjoPgz/wCGH1b/AOaivKNS/wCCw/w%2Bhh8zRP2Kv2jdTJ6GD4XNGg92aWdQo965bWP%2BC0uoaeTJF%2Bw/41to%2Bx8QeJ9J05/%2BBLLOStZz4gyeG9X8J/8AyCOrD5phca7YVTq/9e6Nep/6RQkfQH/CD/8ABQv/AKOg%2BDP/AIYfVv8A5qKP%2BEH/AOChf/R0HwZ/8MPq3/zUV8rat/wXi1S1LR6d%2Byp4e81f%2BWWqftB%2BG7RvyMjH9K5DxD/wcQeNfCym51T9kDwdPH18nTP2gdLu5FH/AGwt3B/CuWfFmQ0/iq/%2BSy/yPewuT8TY5pYbKcbU/wAOBxj/APdZH2x/wg//AAUL/wCjoPgz/wCGH1b/AOaij/hB/wDgoX/0dB8Gf/DD6t/81FfEfhD/AIOVNM8Qy7b79hvxIU3Y3aL4oW%2B/L/RIwfzr0GP/AIL26HqVqj%2BHf2B/jPezMOUXRV2Z9mXcT%2BVOnxZw/VV41/8AyWf/AMgxYzK8%2By2p7PGZdiqUu08JiYP7nQ/U%2Bm/%2BEH/4KF/9HQfBn/ww%2Brf/ADUUf8IP/wAFC/8Ao6D4M/8Ahh9W/wDmor5hi/4Le/GC7bOn/wDBKv4xzIfustlcZP5Whpt//wAFpf2oWTPh7/gj58YbtiOBcQXsQ/8AHdNer/1nyW2k2/8AuHU/%2BVnKqOYuXKsHiL9vq9b9Yo%2BoP%2BEH/wCChf8A0dB8Gf8Aww%2Brf/NRVv8AZW%2BI3xp8Yax8UPAnx01/wvq2qeAfiFFodnqvhPw1c6Tb3VrLoOj6mrPb3F7eMsiyajKhYS7SsaHapzn5BX/grf8A8FLfErlPCH/BHLxva5Pytqq6lt/NrGIGvbv%2BCVvxH%2BMvxb0343fEL9oH4UnwR4u1H4zRnVvC5LE2QTwp4djh%2B8c/PCkUnP8Az0rqwOc4LMarp0ea6V7uE4r75RSv5F1MJmVBc2Iw1Wku84civ21m3f8A7dXr0PquiiivVMgooooAKKKKACiiigAooooAKKKKACiiigAooooAKKKKACiiigDlfjd4i8PeEvhPrviLxToWqanZWtkWkstF8NXesXUjlgI/Ks7OGaeZg5U4jjYrjdwFJHzz%2ByV8d9M%2BE/8AwS6%2BH134l%2BAfxS1TWfAHwW0VNV8C/wDCpdai1a5v7Cyt7d7KC2urSMyz/aUwgHBA80Hy1Mg%2BsKKAPAP%2BCd1hdXvwu8U/FPxPZ6vaeK/H/jq48Q%2BNNP1LwVquhQWGoPZ2dulpaQapa2088ENrbWkRuvLC3E0c8uEZ3jTgfilL8VNC/wCCxXwLHjfxr4f1DRdY%2BGXxHh8M6fpXhqeyurGNZvDMsiXVxJezJeMxjQq0cNuF2NlX3Db9e18d/tdat/Zv/BYv9ji03YF/4T%2BKNuffFlosmP8AyHXNi58lG/nH8ZRX6ntcP4f61mLp/wDTus//AAGhVl/7afYlFFFdJ4oUUUUAFFFFABRRRQAUUUUAFFFFABRRRQBl%2BIP%2BQtof/YVf/wBJLivOv%2BGB/wBhX/oyz4S/%2BG50z/4xXoviD/kLaH/2FX/9JLivl/8A4fm/8Esv%2Bjov/LJ1z/5Crz8dXyqjy/XZQV725%2BX525k/K9io8U1eGvgx8sN7TtWnS5uXvy1KfNa/W9r9L6%2Bt/wDDA/7Cv/Rlnwl/8Nzpn/xitbwN%2ByL%2Byh8L/FNr45%2BGn7MPw88O63Y7/sWsaF4KsLS6t96NG%2ByWKJXTcjshwRlWIPBNeHf8Pzf%2BCWX/AEdF/wCWTrn/AMhV1vwM/wCCrX7A37SnxT0v4KfBT49f214m1rz/AOzNM/4RbVbbzvJgknk/eT2qRriKKRvmYZ24GSQDx0cZw1KrGNKdHmbVrezvfpayvftbUp%2BJGIxy%2BrPOp1FP3eV4qpJSvpy8rrtSvtZpp7WZ6F%2B1L8DNW/aE%2BFcPgjw540t/D2rad4r0LxFourXukNf28V5pWq2upQrNbrNA00TvaiN1WWNtrkq6kA15d45/YA1/x18HfiD8PNT%2BL%2BkSaj4/%2BJ2n%2BNNRkvPBjzaPPJbw6XHLp13p5vQ95ZTf2cd8RuEJScIWbYS/tPxi%2BMvhj4H6JpHiTxjYX8lhq3irS9AN3ZRIyWVxqF1HZ20s251KxG4mhiLLuIMynbt3EeIfG7/gq9%2Bzf8Afh%2BPi34/0fWIPCw8Sa/pEmuT6zoVkpOjXbWt7cQQXupQXF9GJY5wiWkU87iBisXzxeZ7hmcBpX/BHKDTfgnf/AAdh%2BOelWcd/4K%2BJWgD%2Bw/h5HYWNn/wl2o2F6WtrOO72wwWZsjEkAY%2BYsgy6FCX%2BkfDPwJ8ReDPjn43%2BNHh3x3Zf8VxdaKb7TL3Q3k%2Bz29jbyQvHHItwn7yXeGEhUiPbgpJnI8uu/wBvq38HfGjxl4P%2BKN9p2meHfDvxjuPC9jqVpo7z7tMg%2BHVn4snnuZTdL5TK8t1iWOKUNHHFF5IZmuFs/Av9vHxD8Yf2gvEXgHxB8CfFvg7w9pnw38N%2BI9LtfEHh8T6vdtquo6hbJNs065u0%2BzlLaE7GVJoCJmnEaj5QDX/ay/Yz8W/tB%2BI7vxH8OvjZD4Ll8R/D%2B/8ABHjUz%2BGf7Sa/0W6kVy1qftMItL2LNwIp3E8Y%2B0vvgkwm2/8AtQ/s1/Gj42fBC7%2BBHwm%2BPGi%2BBNKur%2BxgZv8AhD7q9eTQYoVW50qR4tTtpAbhl2m4heF0gZo1G8icSftL/Fz456T8VfBH7PX7ONz4TsPE/i7SNc1uXWvGukXN/Y21jpgs43iEFtc2ztLLcajaKH83EaCVtkhAU6Hwt%2BL/AMR/2n/2OfBPx6%2BCs2h%2BFte8e%2BDdG16yHinTJtUtNMW7hguJY5IYLi2e4KRvIi7ZowWCknGQQDk/jP8AslfHP4xfs4r%2BzA3xj%2BHGheG9X8GXPhjxfDo/wgmUNYyoYAulRvq7R6aUtyEQTLeIrojhcDyzDqX7B2q3nxsn8UWvxlSP4f6j8QdM8c6x4Kl8PNJfXGu2Gn21nbsmpfagI7UtZWdy8Jt2kaeFiJ1SRkry7V/29v2obn4O%2BBvH2if8I5Bpup%2BOPE2k%2BJPiRpHwd8QeKNIm0rTWuUtdYt9P029W4tba5eFP3ss8sKgllkdGSQ9L8Uv26Pi5onifVvF/ws1LwNrfw98A6X4Ou/F98NMuZbnxLHrdztkn0yeO88q0igtGiuY/MS6%2B0GQxbogvnMAbXwl/4Jl%2BAv2afiprXxT/AGaPiFr2jNcfC%2Bx8H%2BGtA8X%2BJ9f8SaZpItrm6mWVre91bE8G24jjW2UxCIRyGORDPJW/4F/Zh/aP%2BGln4y8Z%2BD/2hPBC%2BP8A4geM4Nb8T6tefCy5fRDDDpkOnpb2%2BnR6xHNHIUtoHaeS8lZmVgV2FFj4L4b/APBQvxB8S/jJ430vSvFnha00vw9rnivQfDfgjUvB2p217rmoaE1xBcY8QzTppiSNNaTymzSGSWO12zO4G7bwfwX/AOCm/wC0X8R/AerW02m%2BFbjxLqEvgG08KXt/8PdY8PQ2V54jvZ7ecXGnX921zf2lpHD50d/BJFb37F4YXQwySKAeq%2BLf%2BCfvxK1j9kuL9irw/wDtA6DbeC9X8LX2i%2BN7rU/h013qd2l7NNLcvpsq38UGmgefIsEb290tuFi27vLwej8e/sOaf8UP2stC/aK8aXPgU2HhnUbbUNKi074brD4juZre2McMN7rj3btcWkc7tcrAlvCfMjgDSMqMJOA%2BIv7W/wC1P4f/AGRviJ8Y9P8AGPw80zxV8Hta17SPFFtcfD2/1G08UXlr5bacmnwprFvJZvdLNbJ5UktztluPLDkJvfpPjj8Vv23/AIV618GtG07x38LZtW8f%2BKtD8Pa34Xb4e6jLI0wt5LzXLq2vF1lBDDFZ2l9LCslvLhlhR3ffmgDZ%2BF/7NP7Vnw4%2BJvxd%2BJX/AA0n4AupfiVqcGp6TbR/CW9iGjXdvZ2djB5zHXH%2B2Q/ZrNRIiiBnkkLrJGoEdZVj/wAE3/CPja31/wAR/tHfEPU9f8Xa941l8TrrXgDVNY8HW2l3r6Pb6OPssOn6kZwptLcCTzrmUyNNLkhWVFg0L9u/W9X/AGydV8B30Hh7TPg3pfw68Tar/wAJjfmRLq5v9B1DS7bUblZTIIk0%2BI6hNASybzNYTOG8vYX4RP29v2wfEfwU%2BL3jzQvhDp2m634V%2BKvhHSfCejp4D1bXL6x8NavJocs15qGm2Vwtzd3tvYalc3UkFuYvLaLyyH8pnkALd3/wSLg0r4D%2BF/gn4A%2BONvayWnwHPwl8a6/4m8Lz63davobhTJJZtcX4bT5xI1w0Su11bxLLHH5LpBEF9%2Bj/AGa7C6/aKufjv4i8WT38EHw2j8H%2BHdFMTxvpcMt09xqNx9pEu%2BR7rytNU4VCn9nqdzF/k8cv/wBrv49%2BP9N8CeAP2a/iP8OPEXinXvB/izxJrHinWPAmqWWmldDvbGyk0saW%2BoC7sLtrnUYoZDPPI1ubS4LwlmWJW%2BJ/25viwyfAr4ueCBpMnhH4z/8ACLvbeFL/AOHeqme0g1UwebLL4jW6Gm2ksUdwHjtZ4BLdPF5ERaSZNoBBZf8ABHz4J%2BEtV8dS/C74k%2BM9F07xN8MfDXhPwzpepeMtZ1uLw1NoupX2oWl5EupX88cqJNPZ%2BVblEW3W0mEbKL2cHrdV/YT8WeOPgV8T/hn8UPjfZ3%2Bv/GfxLa3vxE13RvCb2VncaYkOn2FxpdrZveTPbxzaZYtbb3uJisl1LNhhiKud%2BFX7Yf7R/wARPiBopns/BMPhr4m3vjPS/htbrpF4LzSL3RbiaK1m1Gb7UUvIbqK2nndIYrdoCEiDTbjItvRv2h/2t9W8B/HLw1pPi/4Z6t4o%2BFU1vHpnjq08F6hFoV1cfY1u7ywl0/8AtN5TcW6YVil7tzcxBgjJIlAH0d41jjh8DatFEgVV0m4CqowABE2ABXl/jj/lIX8L/wDsjPjz/wBO3hCuj%2BG/j7WPit%2ByjoPxR8RW1tDqHiT4eWuq30NkjLDHNcWKzOsYZmYIGcgAsTjGSetc544/5SF/C/8A7Iz48/8ATt4QoA9mooooAKKKKACiiigArxn9g/8A5Ihrn/ZZviP/AOprrdezV4z%2Bwf8A8kQ1z/ss3xH/APU11ugD2aiiigAooooAKKKKACivnr4%2Bf8FO/wBlL4F%2BJf8AhW1j4mv/AB544kkMVt4E%2BHNgdX1OSUdUZYjsiYcZWR1bHIBrjP8Ahrb/AIKa/FL5Pgt/wTct/DFpJ/qda%2BKXju3t8f79lbjzl/76NeZUzfAQqOnGTnJbqEXNryfKmk/WSPHq57llOq6UJOpJbqnGVRp9nyppPyck%2B9j64or5IHw2/wCC0fj35vE37SvwV8AK/wDD4N8HXeqvGP8At/IBPr2px/Z0/wCCulr8tv8A8FHfB10Om66%2BEFrGfr8kmM1P9p1nrHC1bekF%2BDqXI/tjEPWOCrNekF%2BDq3PrWivhH4p/CD4q%2BA0aX9sf/gulf%2BH8jLWWg2Oj%2BGJAP7se12kf6hST1xXiHiHxP/wS3m1BtE1j/gpd%2B058V9SP3tJ0vxXqt/5vsvk2iR4PTAeuHEZ%2B8PK06ai%2B06tKL/8AAU5v8D6jKeGfEniKl7XKsgxFWH81rR9XJRcbeftLLqz9UtY17Q/D1t9t1/WrSxhz/rby5WJfzYgVyGu/tRfsz%2BFonn8TftE%2BBdOSMEyPfeLrKEKB6l5RivzY0j4GfsY%2BJ7n7f8I/%2BCLXx88fXzjEesfEbUr3S4Ln0IkubxkK/wC1sFdhoX7AP7RniuVLjwJ/wSo/Zi%2BG8QIYJ8R9Yn8RTIPT/RAY2P8AvDFc/wDbuYVf4NFS9FWl%2BPs6cfxPZ/4hz4jUtcesDg1/1EY6mpL1hS9tP7oeWh9NeOP%2BCw3/AATd8BXn9m3/AO1DpGpXJbakPhuwu9U3n2a0hkT8d2K56f8A4LO/ssapGYfhl8PPit40vpPlstN8N/Da9eW6c9FTzljGT7kVieB/2Of%2BCmvhq0/s7wn%2B0z8FfhnA67Wj%2BHfwcgdYx6Ks%2BwHHvW8P%2BCd/7VXiv5/i1/wVa%2BLF4zf6w%2BD9OstABPsIVfbR9a4mq/DTt/25FfjOq398Rf6jKnrjeKMDT8qOHxeIa9HyUov716EEPxd/4K6/H%2BT%2B0fhR%2Bzl8P/g7oR%2BaG4%2BKOrzalqd0vYi3ssLbn1SXkY6%2BuZ4v8O/8FSPClt9v%2BJv/AAUW%2BCvg2LG4u3gyNUA9d13KvFbZ/wCCQfws1gbPiL%2B1t%2B0J4uRv9bD4i%2BK00iSD0IjjTj8a2fCH/BHH/gm74Ouf7Qi/Zm0/VLotuluvEOrXuotK3qy3Ezof%2B%2BcUfUc5q6z5r95V2l/4DSppfj8wXB3hnQ97GZ/jsRL/AKc4f2Sfp7WvFR/8Bl5nzT42/ak%2BKXhKVrTxf/wcFfDKz5xIfC3wl03VWX1A8l5Of1riZ/2qPhV4vka01D/gtN8dPGUmcSwfDf4VzaY7H0UrbYH4Gv0u8Efsw/s2fDSNYvh3%2Bz74J0IL0/sjwtaW5%2BuY4wSfeu3hhht4lht4lRFGFRFwAPYCj%2BwcfU%2BOsvvrS/8ASqsfyD%2BzPB2hp9SzDEf9fcfGmn6xpUpfhL5n5L/8I9%2Bzd44O3Xfgx/wUG%2BMMT8vLr63bWkvsWWSEgfhXTeDvgx8ANCjEHwu/4N9fHGoyH7jeOtSiTcfVmvp5sV%2BolFVDhmmnzOpG/wD16pt/fN1GXCr4VYaXNQ4WpSferisVVfz0j%2BDR%2BfugfDj9qYoF%2BHP/AAQx%2BBPgpT9yXXvEmjXDezN9jtg2fxzXTW/wK/4KpeJ7f%2BzY/hp%2Byd4GsH6mx8N39/dR/RWQQmvtyiuyGQ0oqzrT%2BXJD/wBIpI9CHF%2BT4RWwXD%2BXUu18POq1/wCDq7X3xfofE2k/8Eyv2utT1Fdf8X/8FAdO0i67ReA/gto2mtCO4W4AMjfU810o/wCCW3jDWP3njT/gpp%2B0tdSH740j4gR6fGf%2BAJAwx%2BNfWlFaxyHLIqzi36zm/wD29GsPEviygrYSVCgu1LCYOmvwwsn97b8z5L/4dBfCi6/5GD9rP9oTVifvHUvivO2frtjWj/hy9%2BxveceJtV%2BI%2BtKfvLqnxI1Bw312SLX1pRVf2Fk/WhF%2Bt3%2BcmX/xFXxHXwZpVj/h9nD/ANIow/A%2BVNO/4Ilf8EyNPm%2B1S/s1LeTH702oeLNWnLfUPdEfpXU6P/wSn/4J06EALL9kPwc%2B3p9ssWuP/RrNmvoKitIZNk9P4cPTX/bkf8mcuI8SvEXFq1bOcVL1xFb9KiPJtI/YK/Ye0HB0n9jz4YQsvST/AIQTT2f/AL6MJP6113h74D/A7wi4k8J/BrwppbL91tO8O20BH/fCCurorqhhMJT%2BCnFekYr8oo8HE8Q8QY1NYnG1qif81arL/wBKqyX4CIiRoI40CqowFAwAKWiiug8cKKKKACvGf2X/APkt/wC0d/2Wax/9QrwvXs1eM/sv/wDJb/2jv%2ByzWP8A6hXhegD2aiiigAooooAKKKKACiiigAooooAKKKKACiiigAooooAKKKKACiiigAooooAK%2BGv%2BCg2pf2N/wVz/AGItS3YyPH9tn/rtbaNHj/x6vuWvz7/4Kval/Y3/AAU0/Yd1LdjPi7X7bP8A12utAjx/49XnZtLkwEpdnD/0umfZ%2BH9H6zxZQo/zQrr78Li/8j9BKKKK9E%2BMCiiigAooooAKKKKACiiigAooooAKKKKAMrxB/wAhbQ/%2Bwq//AKSXFatV9T0qx1e3FtfxMyq4dGSRkZGHRlZSCp68g9zVP/hD9J/5%2B9V/8Hl3/wDHaANSisv/AIQ/Sf8An71X/wAHl3/8do/4Q/Sf%2BfvVf/B5d/8Ax2gDI%2BOnwd8LftBfB7xH8FfGl1e22m%2BJdJlsp73S5Vju7NmHyXNu7qypPE4WWNyrBXjU4OMV4V8Rv%2BCUvwS8ffCTSPg1pnxc%2BIfhnTdP%2BE958OtVu/D2paf9s13RLpY/tC3ctzZTFZ5JEMrz24hd3kfcWUhR9Gf8IfpP/P3qv/g8u/8A47R/wh%2Bk/wDP3qv/AIPLv/47QB4/rv8AwT1%2BA3inxZqfijxRd67qCax43uPE%2BqaVcXkP2W4nn8HR%2BEZbZgsIf7O2nRh9ocP57M2/ZiIL8Ff2GdN%2BCfjPVPiLYftJfEvX9e1LwrovhpNU8SXWlTPZ6Vpd1cXFvbRJHp8cZ3fap45JZFeZ1fJkEgEg9f8A%2BEP0n/n71X/weXf/AMdo/wCEP0n/AJ%2B9V/8AB5d//HaAOI/aD/Zm0j4%2BXmg%2BI7T4oeLPA/iPw39sj0nxV4KuLNL6K2u4hFdWp%2B2W1xC0UoSJjmPerwROjIyA1i/Ef9izwh43/Zouf2SPCvxX8Z%2BCPBL%2BDtJ8MabY%2BDrmxim0vTrElTHBNcWkzn7Rb%2BXazCUyKYYgI1idpHf1H/hD9J/5%2B9V/8Hl3/wDHaP8AhD9J/wCfvVf/AAeXf/x2gDzR/wBlnxtB8K9H%2BFfh/wDbJ%2BJmixaRHLbrq2i6X4Xtrme0ZFSO1KJov2eCOFVAjNvDFIoJy54xzVz/AME1vgNDd%2BHLDwl4j8VeHvDGg6D4a0a%2B8D6Rf250zXrLw/N52kR3vn28lwfIbAJhmhM6Ksc/nRqEHuH/AAh%2Bk/8AP3qv/g8u/wD47R/wh%2Bk/8/eq/wDg8u//AI7QB4trf/BOj4J%2BKfGN/q3ivxV4p1Hwzd6rrmrW3w7mvLVNGsdU1iyu7LUr6ExW6XZlnh1DUAVkuXiVr6ZkjVipWnY/8E3vh43h3V7Lxh8c/iL4k12/sfD9npPjPWb3TV1PQYtDvHvtLFn9nsYrfdDdSPKzzwzNPuKTmWPCV7r/AMIfpP8Az96r/wCDy7/%2BO0f8IfpP/P3qv/g8u/8A47QB5bp/7D3wyg%2BF2k/CvWvGPifV7ez%2BI9v451zU9SurX7V4k1iHUBqKSX3lW6RGMXaQSCKCOFFFrCiBY02HtPEPwQ8KeKPjn4Z%2BPutahqMuqeEdB1TS9E04yx/Yovt8lo090U2bzcBLRYkffhY5pl2/vCa3v%2BEP0n/n71X/AMHl3/8AHaP%2BEP0n/n71X/weXf8A8doA8YP/AATC/YNj%2BOSfH2w/ZY8A2erSeF9a0LVLKz8D6XHaatDqr25u5rtBbbp5mSGSHczYMV5dIysJTg%2BHf/BOf9n74C3Xj3V/2U7Y/CHU/iFqthe6nqfw78NaHavZLaW0VultbRTafLAIGETyMkscn724mdShfj2f/hD9J/5%2B9V/8Hl3/APHaP%2BEP0n/n71X/AMHl3/8AHaAPC9U/4Jv/AA3uPCOlaP4d%2BNfxE0HxBYSeIDqPjzSNRsBrGsR67PHcatFcNNZSW6pcTQ28n7iGEwm2h8gwhAK6HxJ%2BxR4T8S3Xhrw/N8XPGVp4B8J3eh3WkfCuxbTY9ESXR5YJ9PLSfYjflI57W2l8oXYjZoQGUqWVvU/%2BEP0n/n71X/weXf8A8do/4Q/Sf%2BfvVf8AweXf/wAdoA8a0D9gDwF4V8Y6t4v8N/GLx5Zia28RDwjpkV7YG28GXWuTm41C90wGzL%2Be05aSP7U9zHDveOJEidoyz4afsGp8Kf2XNW/ZQ8LftVfEr%2BxtR08Wdlrc9l4bOp6ZEzs900bro6xTy3ReQzz3UVxK7SvIHWRjJXtH/CH6T/z96r/4PLv/AOO0f8IfpP8Az96r/wCDy7/%2BO0AcZ8Nfg7/wz9%2BzLb/BiP4k%2BIPFlv4b8NSWFhrXihLFb17aOEpDG/2G2toT5cYWMERBiEBYsxLHA8cf8pC/hf8A9kZ8ef8Ap28IV6ifBmhvhZ2vpkyCYrjVrmRG9mVpCrD2IIry7xx/ykL%2BF/8A2Rnx5/6dvCFAHs1FFFABXmP7R/x58W/CO98G%2BB/hd8OrDxV4w8eeIJdM0DStY8QvpVjGsFjc3txc3N1HbXLxRpFbFRsgkZpZYlwqlnT06vMP2kPgN4u%2BLl74N8c/C34i2HhXxh4D8QTanoGq6x4efVbGVZ7G5sri2ubWO5tXljeK5LjZPGyyxRNllDI4Bx2o/tzPf/s2/Dr40%2BAfhat1r3xL8Q2Xh7R/DOv6%2BLC20/VpTMs8F5exwz%2BWkL2txHvjhlMkioiKTItc9r3/AAUA%2BI5/ZZ1L9q7wD8C/C2raH4Kj8TD4mwXvxNa0bTbjQby4tL2DT5F06VNQLPaXDRNMbNXURFjGZCE6bT/2OPEfh39k%2BP8AZW0nxb4F1%2Bwt7O1jWX4j/DRtbs7%2BbzTPfT31kt/Alw09wzzIqNCsLMOJAorgdX/4JqfEbSPhp8OfhB8JPj54R0zwx4Q8Q6j4l8UeGfEPwulvdM8Ta5c3zX8U7W9nqlkLe0tbmWWSCy3SRKVttxb7MmQD6x0nUY9X0u21aG3miS6t0mWK4iKSIGUMFZTyrDOCOxryH9g//kiGuf8AZZviP/6mut16d4m8D%2BGfiF4LuPAnxT8M6P4j03UbQQaxpmp6Wk1lejjcr283mKUJGdjFsccnGa8j/wCCdPhjw14K/ZuvvB/g3w9Y6RpGl/Fv4h2mmaXplolvbWkEfjPWljiiiQBY0VQFCqAAAABQB7pRRRQAUUEgDJNfI/xn/b2%2BI3xo%2BId/%2By5/wTY8P2Pi3xZaP5Hir4j33zeHPCIOQS8oBW7uRg7Yk3DI5D7XQcmLxtDBQTqPV6KK1lJ9ordv8Fu2lqcOOzDDZfTUqrbctIxSvKT7RitW/uSWsmlqfRvxi%2BOXwf8A2ffBs3xA%2BNfxH0jwzo8Gc3urXixCRsZ2Rqfmlc9kQFj2Br5IbWP2l/8AgrNObXwvNrvwm/ZzkfbNq2023iHx7DnlYQebOycfxHmRT/GGZY9G9/Y1/Yx/ZNhX9qj/AIKKfHZviN4tgGR4r%2BKF2JbaGUfMYtO0wbkXBG5YkSV1IyuKtx/tsftj/tYoul/sA/svNofhqYbY/ir8XYnsLEx9BJZ2CZmuQRko/wB3IwyivCxeKnXmqWLfKnr7KF51JL%2B%2B42UY90nFPZzaun7WSeH/ABjxphXjMRCOFwCdpTqVFSpt/wAs68rKTtvRw8as3tLTR%2B//AAS/Zp/Zm/ZB8Fy6X8Gfhl4f8H6ZBBnUL%2BKJUllRR9%2B4uZCZJcf3pHOK8u%2BKH/BWv9jLwLr7eBPAHi/U/if4pORB4Y%2BFmkSa1cykcYEkX7jOcAjzMj0rntM/4JUWnxa1CHxR%2B33%2B0r4y%2BM18kglHh%2Be7OkeHoJAcgx2FoygkHjcXwwAyvavpT4YfBv4S/BPw%2BvhX4P8Awz0Lwxpwxmz0HSorVHI/iYRqNzf7RyT6120o5pOmoUKcMPBbXtKX/gMeWC%2BcpH2dHL/C/hqkqUqlXHzj9mivquGXl7ScZ4ia84UaV%2Bj6nzOPix/wVm/aTbb8KfgJ4R%2BBvh6Y/LrnxG1A6rrLx9njsbcCOF/WOf069Kl/4di/FD4ofv8A9rL/AIKIfFrxoH5uNI8M3cPhvS589Ve2tQ25fowNfXFFaf2PQq64mc6r/vSaj/4BDlj%2BZb8R80wXu5JhcPgYrZ0qMJVfV166r1m/NOn5JaW%2Bf/hV/wAEsf8Agn58HZFu/Cv7Lfhm7u1beb7xJbvq05fqX33rSlWzzlce2K9y8P8Ahjw14TsF0rwr4esdMtV%2B7bafaJDGPoqACr1Fd2HweEwkbUKcYLySX5L9T5bN%2BI%2BIeIKvtM0xlWvLvUqTn%2BEptL5RQUUUV0njBRRRQAUUUUAFFFFABRRRQAUUUUAFFFFABRRRQAUUUUAFFFFABRRRQAUUUUAFeM/sv/8AJb/2jv8Ass1j/wCoV4Xr2avGf2X/APkt/wC0d/2Wax/9QrwvQB7NRRRQAUUUUAFFFFABRRRQAUUUUAFFFFABRRRQAUUUUAFFFFABRRRQBj/ED4ifD/4TeDr/AOInxT8daN4Z8P6XEJNT13xBqcVlZ2iFgoaWaZlSMFmUZYgZIHenWnj7wJqHgSL4o2HjXSZ/DM%2BkrqsPiKHUomsJLBovOF2twG8swmIiQSBtpX5s45rL%2BN3iLw94S%2BE%2Bu%2BIvFOhapqdla2RaSy0Xw1d6xdSOWAj8qzs4Zp5mDlTiONiuN3AUkfIfhG28UfEz/gjJ4J%2BCeg/Cbx2PE3h34T%2BE4/Efg/Xvh/qulXV5HpTaf/aemKl/bQiWWWO2uYFiyfODgruRt1AH2R8Nfin8MfjP4Qt/iD8HviPoPizQLt3W01zw1rEF/ZzMjFHCTQMyMVYFTg8EEHkV8Cf8Fp2Nj%2B21%2Bx54nBIGi%2BMr69Y%2BgGteGE/9nr6e/Yng1bXfGvxr%2BMkHg3XtB8N%2BO/iZb6l4Ws/Evh660i8uYYfD%2BkWM949leRxXFsJLm0nULLGjOIRLjEisfj//AILW6b8V9G%2BPHw68a%2BNvGnh7UND0vStT1DwzYaV4Yns7vTkTxL4OSQXNzJezJdk%2BYmGSG3C4OQ24bfJz3TJ6z7K/3Si/0P0Dwq18Rcsh/PUcP/BlKvT/APch%2BndFFFesfn4UUUUAFFFFABRRRQAUUUUAFFFFABRRRQAUUUUAFFFFABRRRQAUUUUAFFFFABRRRQAUUUUAFFFFABRRRQAUUUUAFFFFABXjPjj/AJSF/C//ALIz48/9O3hCvZq8Z8cf8pC/hf8A9kZ8ef8Ap28IUAezUUUUAFFFFABRRRQAV4z%2Bwf8A8kQ1z/ss3xH/APU11uvZq8Z/YP8A%2BSIa5/2Wb4j/APqa63QB7NXOfFz4tfD34E/DbWPi58VfE1vo%2BgaFZtc6jf3B4RRwFUDl3ZiFVBlmZgoBJArev76y0uxm1PUrqOC3t4mlnnlcKkaKMszE8AAAkmvh/wAAaHrv/BXD4yWnxy%2BIOl3Nr%2Bzp4H1dn8A%2BGb2Ip/wnGpwsUOqXUbdbSNgyxxsPmOQw5kU%2BfjsZOhy0qK5qs/hXTTeUu0Y316t2itXp5eZY%2BphlGhh481apdRXRW3nLtCN7vq3aK1lpNaaN%2B17/AMFUraPVfFs%2BsfBX4AX6CS10W0mEfifxnasMq08i5FjayKfuDJZSQfMVlcanxB%2BO3h39nq4s/wDgnL/wSz%2BEmjX/AI%2BggxfC3QnSPBkDYD3%2BpzfMZJzwRGxaR2wX3EqknV/t8ftMfEXT9a0T9iL9ku5R/i58QoGCX6cx%2BEtGztn1acj7hUbliHUuMjJVUf1H9k39kr4Sfsd/C2D4a/C7Si00rC48Qa/efPfa3ekfvLq5kOWd2YsQM4UHCgCvHp4apVxU6VGbc1pUrP4lfX2dNbR7u2kE1fmm1b9H4b4YyTgrK6XEmf0/rWLxCbw9GptOKdvb1kmnHDKaapUIcrxEoSc5%2ByjKVTzP4F/8Exfhf4S8YwfHL9pzxfqfxm%2BJuFdvFHjXEtrYP122NjzDbIG5XhmU8qVzivpvp0oor38Lg8LgoclGNr792%2B7bu2/NtnkZ9xJnnE2KWIzKu6jirRWihCPSFOnFRp04LpGEIr1erKKKK6TwwooooAKKKKACiiigAooooAKKKKACiiigAooooAKKKKACiiigAooooAKKKKACiiigAooooAKKKKACvGf2X/8Akt/7R3/ZZrH/ANQrwvXs1eM/sv8A/Jb/ANo7/ss1j/6hXhegD2aiiigAooooAKKKKACiiigAooooAKKKKACiiigAooooAKKKKACiiigAooooAK/Ov/gvnZzXHhS1vbUfv7D4O%2BJLuE%2BhTxb4DJP/AHzur9FK%2BDf%2BC0%2Bk/wBtaTd2e3Oz9nLx5Pj/AK5a74Ll/wDZK8zOo8%2BT4mP/AE7n/wCks%2B48Mq6w3iRk1V7LF4f/ANPQX6n3bYXkWoWMOoQHKTxLIh9mAI/nUtcv8ENW/t/4L%2BENd3bvtvhfT593rvto2/rXUV6FOXPTUu6T%2B9J/qfH4ug8Li6lF/YlKP/gMpR/9tCiiirOcKKKKACiiigAooooAKKKKACiiigAooooAKKKKACiiigAooooAKKKKACiiigAooooAKKKKACiiigAooooAKKKKACvGfHH/ACkL%2BF//AGRnx5/6dvCFezV4z44/5SF/C/8A7Iz48/8ATt4QoA9mooooAKKKKACiiigArxn9g/8A5Ihrn/ZZviP/AOprrdezV4z%2Bwf8A8kQ1z/ss3xH/APU11ugDiP8AgrR8UvEvhP8AZTk%2BDfw3m/4rH4v65aeB/DMasch759k8hxyFW3EoL/wl1Oa7j4j%2BMPhp/wAE6f2H7nXoYEGhfDPwZFa6XbSEIbyWKNYLeIn%2B/NMY1J/vSEnvXkZ/4yq/4K5hf%2BPjwt%2Bzf4Rye8b%2BJdWT8m8u0X3KSJ2JqP8AbA/4y9/bo%2BGv7Dth/pHhfwVs%2BIPxTVeY5FhbZpthJ2PmStveM9Y2Vh92vmauJqc9fFU/jk1Rpeqdm/TncpPypnpeGuS4PibjGtjMff6nQUpVWumHw3v1rPpKrVcaMO8px7HZf8E5f2Y/Evwy8D337SPx6uH1P4v/ABVWLV/G2p3UW17CN1DQaXCpz5UUCFUKD%2BJepVEC/SdFFe7hMLSwWGjRp7Lr1b3bfdt3bfd%2Bh0cRZ9juJs5rZli7c1R6RWkYQXuwpwW0YU4KMIRVkoxXVybKKKK6TxQooooAKKKKACiiigAooooAKKKKACiiigAooooAKKKKACiiigAooooAKKKKACiiigAooooAKKKKACiiigArxn9l/wD5Lf8AtHf9lmsf/UK8L17NXjP7L/8AyW/9o7/ss1j/AOoV4XoA9mooooAKKKKACiiigAooooAKKKKACiiigAooooAKKKKACiiigAooooAKKjvb2z06zl1DULuKC3giaSeeaQKkaKMszMeAAASSelc/8MPjH8Ivjd4SHj74MfFTw34v0IzyQjWvC%2BuW%2BoWhkTG9POgdk3LkZGcjPNAHSV8af8FS9J/trVdVsduSv7JvxWmAx1Mdz4VkH6pX0/8ACn48/A3472V9qXwP%2BM/hPxnbaZci31K48KeIrbUUtJiMiOVrd3Eb452tg4rwf9uXSf7f%2BNEGhbd3239lv4qQbfXfc%2BFl/rXLjoe0wVWPeMl/5LI93hbEfVOKMBX/AJK9CX3VqL/JM9V/Yl1b%2B3v2M/hJrZbJu/hloMzH3bT4Cf1Nen14V/wTF1b%2B2v8Agnv8HbzdnZ4B0%2BDP/XKIRf8Asle61OXT9pl9GXeEP/SYm3GOH%2BqcX5lQ/lxGIX3V636WCiiiuw%2BcCiiigAooooAKKKKACiiigAooooAKKKKACiiigAooooAKKKKACiiigAooooAKKKKACiiigAooooAKKKKACiiigArxnxx/ykL%2BF/8A2Rnx5/6dvCFezV4z44/5SF/C/wD7Iz48/wDTt4QoA9mooooAK%2BYv%2BCj5%2BEY1n4N/8NRnQP8AhT3/AAsC7/4T3/hMPJ/sPzP7E1H%2Bz/7S8/8Ac/Z/tWzb537v7T9l/wCWnl19O0UAfApj8M%2BNf%2BCXvw3s/ip8VPAVpYeDtW0jU9a8N/GbxONP0vV9DM040rTdammSV7cTWj2cyGeGUvNbxB43ywrw%2BVfAifAjwxN%2B3HZaBaeBJ/AXxVn%2BDtoRINOt79/EKPocekecqObxdMaMaSURLk24c26Rnei/rVRQBwvgW7%2BNtj%2Bzj4eu9Q0HTtU%2BIMfhKwOo6frmrPYW0%2Bp/Z4/PWW4ht7hoh5m/5lhk5/hrz3/gn/ret2H7LOr%2BIviBpljp2oQfFP4jXGs2emai93bW0q%2BMtbaVIp5IYWmRSGAdooywAJRc4HvlfKPhXxV/wg3/AATZ%2BNvjISbG0vxH8YLqM5x86eKPEDKB7kgCsq9RUaM6j%2Bym/uTf6GOIqqhh51X9mLf3Jv8AQyf%2BCR91ZeG/2D9T/a7%2BJFzt1f4ja9r3jjxnfMPu4uZkAUn/AJZrDbqyr0G9sda1P%2BCS/g7XPFHwo8S/ts/Ea2A8W/HXxHLr9yrHJstKjZodOsgx6pHCCyn%2B7KAeleVfFDWtW%2BCP/BArwj4J8Mxka742%2BHmheHtItAdrTXGsCISx/Xyp5z%2BFfcnwj%2BHelfCH4U%2BGfhRoQH2LwzoFnpVoQuMx28CRKfxCA185lVLnrYem9qVKMn/jqdfXl5n/ANvPufZ8N03w/wCC9OS0q5hVhTb6ujh6cK1Rek8VXg5fzOmk9rHQ0UUV9QfJBRRRQAUUUUAFFFFABRRRQAUUUUAFFFFABRRRQAUUUUAFFFFABRRRQAUUUUAFFFFABRRRQAUUUUAFFFFABRRRQAV4z%2By//wAlv/aO/wCyzWP/AKhXhevZq8Z/Zf8A%2BS3/ALR3/ZZrH/1CvC9AHs1FFFABRRRQAUUUUAFFFFABRRRQAUUUUAFFFFABRRRQAUUUUAFFFFAHkX7ffw%2B8afFb9ij4p/Dj4eaNLqes6z4G1G1stIgcK%2BploG3WaliFBnXdCNxC/vOSBk15B8Pb7V/Hd/8AtD/EDwR8CfFa6T8R9GhtPBvhfxT4Q1TQTr1/ZaB5Nw863EEUlhHLutrJZpxEZPsZMRZVRj9eUUAfFn/BLH4f%2BN/CvxE8U61q5%2BI2saW3wr8FaLH4n%2BKXgR/DuoQXdgdV8zRbe3NpaieztVuUkS48qRy97IrXd1tXye0%2BKHhb4r6p%2B3zo%2BneNvGXh7UtC1X4D/EGDw1pmleGJ7O7sUbUfCiyLc3El7Ml2W3JgpDbhcHIbcNv0/XjPjkA/8FCvheCP%2BaM%2BPP8A07eEKUoqUWn1NKNWVCtGpHeLTXqmn%2BhxP/BGrVv7a/4Jm/Ci83Z2aRdwZ/65ahcxf%2ByV9OV8l/8ABEbNl/wTu8L%2BFyedD1/X7Er/AHdurXT4/wDH6%2BtK8zI5OWTYZv8Akh/6Sl%2Bh9x4pUo0fEvOox2%2BtV2vR1ZSX4SQUUUV6h8GFFFFABRRRQAUUUUAFFFFABRRRQAUUUUAFFFFABRRRQAUUUUAFFFFABRRRQAUUUUAFFFFABRRRQAUUUUAFFFFABXjPjj/lIX8L/wDsjPjz/wBO3hCvZq8Z8cf8pC/hf/2Rnx5/6dvCFAHs1FFFABRRRQAUUUUAFfBH7Rnir/hDf%2BCNPx31fzdnnfET4iWOc9ftXj/VbbH4%2Bbj8a%2B96/OT9rL/ic/8ABNK6%2BGPX/hNv2s/EWh%2BX/wA9PM%2BIury7ff8A1P6V5mdScMoxDW/JJL1asvxkePxDOVPIcU47%2Bzkl6tcq/GSO%2B/aB8K/8JP8AtE/sf/sWxRbrPwwR4x8QQdoE0awSOyLDuGnZ0%2BtfbtfI37Of/F6f%2BCrfxx%2BNMn72x%2BHHhXR/AWiTnlTJKTf3oX0ZJgFPf5q%2BuayyiKl7astpTaX%2BGmlTX/pMmfq/HEI5Zg8oyOOiwuEpuS/6eYlvEzv5qM6EX6JdAooor2D4AKKKKACiiigAooooAKKKKACiiigAooooAKKKKACiiigAooooAKKKKACiiigAooooAKKKKACiiigAooooAKKKKACvGf2X/wDkt/7R3/ZZrH/1CvC9ezV4z%2By//wAlv/aO/wCyzWP/AKhXhegD2aiiigAooooAKKKKACiiigAooooAKKKKACiiigAooooAKKKKACiiigAooooAK8Z8cf8AKQv4X/8AZGfHn/p28IV7NXjPjj/lIX8L/wDsjPjz/wBO3hCgDzH/AII6f6D%2Bz7478LdP7C%2BNvimw2/3dt0Hx/wCP19aV8l/8Ep/%2BJbfftI%2BFm4%2Bw/tP%2BKJIl/uxSi2dB/OvrSvJyPTKaS7Jr7pTX6H6B4qe94hZhU/nlCf8A4HQw0/zmwooor1j8/CiiigAooooAKKKKACiiigAooooAKKKKACiiigAooooAKKKKACiiigAooooAKKKKACiiigAooooAKKKKACiiigArxnxx/wApC/hf/wBkZ8ef%2BnbwhXs1eM%2BOP%2BUhfwv/AOyM%2BPP/AE7eEKAPZqKKKACiiuA%2BPv7QekfAaz8P23/CA%2BIfF2veLNcOk%2BGPCnhVbT7dqNwtrPdy7Wvbi3t4kjt7aeRnlmRfkCgl3RGAO/orx7XP22PhZYfs9eEv2ifDnh7xBr9n46vtO0/wr4e0y1gh1K8v7x9kdmy3c0MNvMjCRZBNLGqNE6lt2AeJ8Rf8FRfhDongDSvHGnfCDx9q095o/irVdX0Cwt9LjvNCsvDl%2Bun61NctcX8VvILe6dY8Ws1w0ud8IkT5qAPpevzg%2BKdxDrXh34AfDu4kAjuv25PGutTqe8WneLvEMz59QA%2BTX6KaDreneJtDsvEejzNJaahaR3NrI8TIWjkUMpKsAynBHBAI7ivy9%2BJPiLyvi58MIhJiLwj4o/aK8T3oz08vW9bSFvbEgNePn01DLJX6ygv/ACeLf4RZ5uaYaWPpUsHHetWoU1/3Er0Y/qfTP/BGG0uPEX7IN5%2B0Jq0eNU%2BLXxB1/wAWanu5ZXlvpLdUz6BbZSB0G6vrSvnz/glL4d/4Rb/gnR8IdM8vb5vg%2BG7xj/n4Z7jP4%2BbmvoOtclg6eUYdPfki36tczfzcm/mfpPiXio4zxDzapD4ViKsYrtCnN0oJeUYUoRXlEKKKK9M%2BICiiigAooooAKKKKACiiigAooooAKKKKACiiigAooooAKKKKACiiigAooooAKKKKACiiigAooooAKKKKACiiigArxn9l/wD5Lf8AtHf9lmsf/UK8L17NXjP7L/8AyW/9o7/ss1j/AOoV4XoA9mooooAKKKKACiiigAooooAKKKKACiiigAooooAKKKKACiiigAooooAKK8e/4KDnxyP2HPiwfhv/AGn/AGx/wgWp/Z/7E3/btn2d/N%2BzeX8/n%2BV5nl7Pn37dvzYrwj9lbxV8KdFg%2BPmifsAa54Qi8H6hawt8H9O8J3NqNJvPEUWhB74abHGfKkRW%2BwGbyQUE5nL/ALzzaAPtivGfHH/KQv4X/wDZGfHn/p28IV8/f8EcfFfg7Zq3gXwb4a%2BGWoTt8PfDWseLPG3w60aSC8bWJvtiT6Tr1xLNNJe6tA0bSyTStHMTdOZbeAlfM9Q8Q%2BOPiHaf8FU/hz4T%2BInhDw9pmk33wf8AHyeDdR0vxPPeXWpbNT8JSSi5tpLKFLRgoyqxzXAYBsldo3JtRV2JyUVdmF/wTr/4lf7T37Vfhbp5Pxeiv9v/AF82SPn8dtfWlfJf7GX/ABKv%2BClX7XXhs8L/AGh4Mv4x/e8/SJCxH4gV9aV5WS6YDl7TqL7qkz9B8Tfe4rVX/n5h8FP/AMCwWGf6BRRRXrH5%2BFFFFABRRRQAUUUUAFFFFABRRRQAUUUUAFFFFABRRRQAUUUUAFFFFABRRRQAUUUUAFFFFABRRRQAUUUUAFFFFABXjPjj/lIX8L/%2ByM%2BPP/Tt4Qr2avGfHH/KQv4X/wDZGfHn/p28IUAezUUUUAFeQ/tRfCP4seMfEvw7%2BMHwMtvDt94m%2BHniW6votE8V6vPp9jqlpdabdWM0LXUFtcyW7qZ4plcQSA%2BQYyAJN6evUUAfJPiL9h34y3v7G3hP9ma%2B0rwB4sHhvxFp%2BteI9C8S6hcR6L42Zp5rvULG6T7HM1pbC8nE0PyXW8W0SyptZ1Pm/jT/AIJZfGXXfg74V%2BHupfD74PeMLLR9H8Y2mmeBfFOp3kWjeBLjV9SF1p1zo0y6fNJI2m2wNnD%2B6tGEYBgktFJir7%2BooA5az%2BGTX/wcsvhN478Za3qkiaFb6fquv2OsXWmX97JHGivci4tJY5oJHZS5aORWBYjNfkj4lNh4W8WfFvw7pN3fS2HgP4E/F63trjU9UnvbkT33xD1yxXzbi4d5ppDEwJkkdnY8sxJJr9l6/D7xjrNxqHhX9vLxDbqzT6H4sn8LWo7sdQ%2BIGqXDIPwJJr5niupyZal5t/8AgMKkv8j1uFMGsy8ROHcE/wDl5mGE%2B6NRVH/6Rf5H69fsd%2BHf%2BEQ/ZH%2BFvhQx7Tpvw60S1Ye6WEKn9RXo9UfDGiw%2BGvDen%2BHLfHl6fYxW0eOm1ECj%2BVXq%2BhoU/Y0IU/5Ul9yS/QwzXGPMM1xGLf8Ay8qVJ/8Agc5z/wDbgooorU4AooooAKKKKACiiigAooooAKKKKACiiigAooooAKKKKACiiigAooooAKKKKACiiigAooooAKKKKACiiigAooooAK8Z/Zf/AOS3/tHf9lmsf/UK8L17NXjP7L//ACW/9o7/ALLNY/8AqFeF6APZqKKKACiiigAooooAKKKKACiiigAooooAKKKKACiiigAooooAKKKKACiiigAr4V/4KMfER/hV/wAFXP2KPFslx5dtezeNtBuVJwr/ANoDQrVAf%2B2joR7qK%2B6q/O7/AILp%2BH9Tn1/wP8S/DsHmat8O/h54k8V6UP7stp4k8Fh2z2xFJKc%2B1ebm8508sq1IbxXN/wCAuMn%2BEWeTn06lHJ61WG8Fz/8AgEozf4Rkeu/AH/iUf8Fe/wBoDTun9seAvCl/j%2B95UUkGf1xX1pXxz4a8U6VoP/BYiw8WSSbdI%2BL3wAhfwtefw3dzZ3fnyRf7wtmEnGeCK%2Bxqyydr2VaK6Van4tSX3qV0fq3iF%2B%2BxWWYqOsauAwbT6PkpSpOz8pUuV9mrBRRRXrn5%2BFFFFABRRRQAUUUUAFFFFABRRRQAUUUUAFFFFABRRRQAUUUUAFFFFABRRRQAUUUUAFFFFABRRRQAUUUUAFFFFABXjPjj/lIX8L/%2ByM%2BPP/Tt4Qr2avGfHH/KQv4X/wDZGfHn/p28IUAezUUUUAFFFFABRRRQAV%2BK%2BieHv7T8BftHR%2BXn/hO/%2BCgZ8L9P9Z5HiC%2Bm2e%2BN%2BcV%2B1Ffkz4F8KbLnwn4X8v8A5Gj/AIKc%2BNfETLj/AFi2GtahESfUDyv0r53iWl7XBxXm1/4Fyw/9uZ9h4b0ebxMyjEdKE61b09lhMVNP74o/Waiiivoj48KKKKACiiigAooooAKKKKACiiigAooooAKKKKACiiigAooooAKKKKACiiigAooooAKKKKACiiigAooooAKKKKACiiigArxn9l//AJLf%2B0d/2Wax/wDUK8L17NXjP7L/APyW/wDaO/7LNY/%2BoV4XoA9mooooAKKKKACiiigAooooAKKKKACiiigAooooAKKKKACiiigAooooAKKKKACvmT9sr4ZJ8aP2hdI%2BETxBz4m/Zr%2BJumRg9nmvfCcaMPcMwIPqBX03XjPjj/lIX8L/APsjPjz/ANO3hCoqU41acoS2aafo00/zM61KFelKnPaSafo00/wbPi7WPGur69/wSo/Zu/b78OW8txrvwH1PTpNTEYzPNpcE39kalbnuPMSKNmP91Cfev0u0bWNM8Q6Paa/ol7Hc2V9bR3FpcxNlZYnUMjg9wVII%2BtfGH/BPn4ceHvEnwz/aW/YQ8ZwZ0vRvin4g02K1A5i0bVYhLbkA9Dh5WB9cEV3X/BI/4keIvE37Itt8IfH8%2BfFXwj1298DeI4yTlZLCTZAQDzt%2BzmEA9yrV8zktSVKrTUv%2BXtNJ/wDXyj%2B7l98Un8j7DJas%2BIfBrCVZ61ssqeyl39jXcuX5QxVCpHy9su59PUUUV9SfJhRRRQAUUUUAFFFFABRRRQAUUUUAFFFFABRRRQAUUUUAFFFFABRRRQAUUUUAFFFFABRRRQAUUUUAFFFFABRRRQAV4z44/wCUhfwv/wCyM%2BPP/Tt4Qr2avGfHH/KQv4X/APZGfHn/AKdvCFAHs1FFFABRRXiX7W3jL4nDx38KfgV8MfiZf%2BCpPiD4tvrXVvFekWFlc3traWekXt8YrZb6Ce3EsksEILSQyARLNtUMVdAD22ivjnxP%2B1R%2B0V4i/wCCf3w1%2BInhbXLr/hPfFXjGw8OalJ4QsdOGqa00V7Pb3kmkxakGsI7iWO0luVF0fIjh80lhsVq8zs/24f2ofEnhD4d/DK/174mDWZ9L%2BIWseOdW%2BH/hfw7L4ms7fw/r8GnQ2d1HqMf9lrPFDdp9sNrHIJriFRZB4plcgH6JV%2BcPhWztNV/a0/Zq8E2drGkZ%2BPvx21u%2BEaAfPB4h1co7Y6ksxGa%2B8tN%2BLfguT4Laf8a9P1XU9d0C70C21S0v9G0C6vrq/tZokkjmjtLSF5pGdXVtkcRbn7oxx8B/sd%2BIbD4pf8FCvhxf6Vb3yW2l2nxe8QW8Op6XPZXMSXnj3WLYebb3CJNA%2BOGjkRXU5VlBBFeTnPvYenD%2BapSX/k6f/tp%2BgeG/7vOsXif%2BfWDx0/S%2BGnTT%2B%2Bsj9KKKKK9Y/PwooooAKKKKACiiigAooooAKKKKACiiigAooooAKKKKACiiigAooooAKKKKACiiigAooooAKKKKACiiigAooooAKKKKACvGf2X/APkt/wC0d/2Wax/9QrwvXs1eM/sv/wDJb/2jv%2ByzWP8A6hXhegD2aiiigAooooAKKKKACiiigAooooAKKKKACiiigAooooAKKKKACiiigDx7/goOfHI/Yc%2BLB%2BG/9p/2x/wgWp/Z/wCxN/27Z9nfzfs3l/P5/leZ5ez59%2B3b82K8S/Y8%2BIHwe8D6l8cT%2BwhpPhLXfBD/AGW5%2BE3g7whrNlZaX4g1%2B30RZb%2B00x9y26qxFgs0kf7uOd52kIkExr7OooA%2BIv8Agk1b/EXQvjh%2B0HoPxS%2BEPjLQvEV54j0LVvFeseLLvR5Gv9WuNGtmuCq6dqN4I0zzDEGKRW/kRB8xlF9Wv9S%2BK93/AMFNvBdn428F%2BHtP0K3%2BD3jgeGtR0rxPPeXd%2Bh1bwl5jXNtJZQpaEYTASa4DbjkrtG76Hrxnxx/ykL%2BF/wD2Rnx5/wCnbwhQB4/o%2BvWP7Lv/AAV68UWnjRX03Qf2hfCOlSeHdUlXFrc67paNbtZ7s4SVoGDAH7xdQMswFUPij4h1H/gm7%2B2/4g/aQ8U6Sz/Bf42S6bbeLtYtQSPCevQoYIrudAOLadW%2BeQfxkk8qiv7/APtm/sp%2BEv2xPgZqHwn8QX0mm6lHKl/4V8RW2RcaLqsOWt7uJgQwKtwwBBZGYZGcjzb9jT46wftffCHxV%2Byl%2B194TsD8R/Bqt4f%2BKPha%2BRTHqURXbHqES8boLhMOHUAKxyuAYyfmK2GqUsT9XUuVuUqlGXTmd3OnLyd2%2B7jJ296B18D8RUOD89r5fmNL2uBxqnGcU%2BWUoylGpOMJbRrUqkVXoNpp2lGScXNH03Z3lpqFpFf2F1HPBPGskM0LhkkRhkMpHBBBBBHWpK%2BGfCfjf45/8EkXuvhr8VPB3iLx/wDs8290X8KeO9IBvNS8F2jc/Y9QgHzy20ZPyzL91RgA7liT7C%2BE3xh%2BF3x28D2nxJ%2BDvjzTPEeh3y5t9R0u5EiE8ZRsco4zhkYBlPBANevgswp4p%2BymuSqvig915r%2BaPaSumrXs7o%2Bl4m4OxmRQWOw0vrGAqP8AdYiCvCV1dRmk26NZLSdGpyzTT5faQ5ZvpKKKK9A%2BPCiiigAooooAKKKKACiiigAooooAKKKKACiiigAooooAKKKKACiiigAooooAKKKKACiiigAooooAKKKKACvGfHH/ACkL%2BF//AGRnx5/6dvCFezV4z44/5SF/C/8A7Iz48/8ATt4QoA9mooooAK4741fAb4Y/tBeHrHw18TtK1CaPS9UTUtJvtG1%2B90q/0%2B7WOSIT215YzQ3Fu5immiYxyKWjmkRsq7KexooA8v1f9jT9nXWfhlYfB2XwXfWvh3Rxpp0Cw0vxPqNkdFewTy7WSwlt7hJLCREyDJbtG77m3ltxzm61%2BwP%2Byxrvw80f4YXPgLU7bS9DOo/YptL8Z6tZX0o1CUzagtxfW90l1eLdynzbhZ5ZFuJAryh2UEexUUAVdE0TR/DWi2nhzw9pdvY6fp9rHbWNlaRCOK3hRQqRoq8KqqAABwAAK/On/gnhf2epf8FOvid4mv5gsPhXw9430tnOSEa5%2BJmuXIGB3OOAOTnFfpBX5qf8Em7abWf2z/2vPENwnyaT8Z30u1Y91k8W6zcOPwYj868rM/erYWHeqn/4DCpI%2B/4Iao5ZnuI/lwM4/wDg3EYSl%2BR%2Bi3/CYaT/AM%2Bmqf8Agju//jVL/wAJhpP/AD6ar/4I7v8A%2BNV87ePv%2BCyP/BN74X%2BO9a%2BGnjn9o37Drfh3VrnTNYsv%2BEQ1iX7PdW8rRSx747Rkfa6MNykqcZBI5rJ/4fl/8EtP%2Bjof/LJ1v/5CpyzzJYScZYmmmv78f8yKPhb4mYijGrSyTFyjJJprD1Wmmk001CzTTTT6pp9T6f8A%2BEw0n/n01X/wR3f/AMao/wCEw0n/AJ9NV/8ABHd//Gq%2BdvAP/BZH/gm98UPHei/DTwN%2B0b9u1vxFq1tpmj2X/CIaxF9ouriVYoo98loqJud1G5iFGckgc1337f3xg%2BJn7Pv7E3xT%2BOPwbtNNm8T%2BEvA%2Boaro66vMyW6ywQtJvfbHJu2qGYJtw7KELIGLr14XG4PGxcsPUjNLfladvWx8/nnDPEnDFaFLOMFVw0ppuKq0503JJ2bSmk2k9G110PS/%2BEw0n/n01X/wR3f/AMao/wCEw0n/AJ9NV/8ABHd//Gq%2Be9T/AG3Pjb4V%2BIfjnwX8QvgV4E0LT/hl8PLTxN458T3fxUujY273cWqNb21tjRxLOofT4xLK6RFEuC0cczoIpOZ%2BG3/BSrV/irqnhnQ9W%2BE%2Br%2BF9bi%2BNEvg7xDpCy3ltDIh8H6hr8M%2B3WNHtL14XSGJNv2e0kEqBllkhUrcdJ4Z9Vf8ACYaT/wA%2Bmq/%2BCO7/APjVH/CYaT/z6ar/AOCO7/8AjVfPP7JX7fPxJ/aH0/RLjxz%2BzB/wj934s%2BE2i/EHwnpfh7xrDqs91p18wR4JzcQWUVvcQl4mKh5EdHyHDKY66n9qvxZ8VdS%2BLXwv/Z4%2BFvxX1DwI3ja61i61bxXo2m2N1exW9hZCRbaBb%2B3uLdWkmmhZmeJz5UEqrtZhIgB67/wmGk/8%2Bmq/%2BCO7/wDjVH/CYaT/AM%2Bmq/8Agju//jVfO1n%2B0F%2B0j8UP%2BCYvhb9oH4d2Er%2BPdb0DQZ9auPDWirdzRQSXtrFq9/p9nIHE8qWZvLq2t2WXe6RIVlztbi/hr8b/ANoz41/AD4mr4M8Z/G/UNY%2BF3xQm0PR7zQfCfhfSvFPiixbSdO1CJ7qz1%2BzgsrfZ/aRUqsVrKy2yEoHZ4yAfXv8AwmGk/wDPpqv/AII7v/41R/wmGk/8%2Bmq/%2BCO7/wDjVfLHhb44/tA%2BKP8AhjP4vy/H6Oax%2BK0kGlfELwzoGh2g0fWLiTwVrusS3cUlza/boCt5p9vsRZIsIrLIjFiBLoHxo%2BPfwr/an8Vaf%2B01488e6HoPiDxHrNt8IU1aw8NHwdfW1tpJvljeazibV4bhIrTULg/aXjR47eTaXwFoA%2Bof%2BEw0n/n01T/wR3f/AMaq/YX9pqdol9YziSKQZVgCO%2BCMHkEHIIPIIr47/wCCY37RP7UHxT8ZXvhj9pbX/E7S6h8LPDvifTLLxppWjW81zcXUl2l5d6YdIjRRpRK2wiivv%2BJhGT%2B%2BSMMu7618H/8AIJm/7Cl9/wClctAGrRRRQAUUUUAFFFFABRRRQAUUUUAFFFFABRRRQAUUUUAFFFFABRRRQAUUUUAFeM/sv/8AJb/2jv8Ass1j/wCoV4Xr2avGf2X/APkt/wC0d/2Wax/9QrwvQB7NRRRQAUUUUAFFFFABRRRQAUUUUAFFFFABRRRQAUUUUAFFFFABRRRQAUUUUAFeM%2BOP%2BUhfwv8A%2ByM%2BPP8A07eEK9mrxnxx/wApC/hf/wBkZ8ef%2BnbwhQB7NXgv7WP7AHw0/aX1%2By%2BLnhrxPqvgD4o6LCE8P/EjwrKYr2ADO2K4QELdQc4Mb87SVDKGYH3qisMThqGLpOnWjzL9ejT0aa6NNNdGc2LweFx1B0a8VKL/AAa2aas010aaa6M%2BM9P/AG5f2pv2RLeTwX/wUS/Z11jW9Jsz5afGP4ZaSb/Sru3x/rr20XElm2B8%2BF2lj8qBcE4HhX9mr9gb9p/xDcfG3/gnJ%2B15N8M/GOpnz7pvhrrqww3MmM5vdFm2gjnJTZFk8nJya%2B668J%2BN/wDwTO/YW/aF1CbXfiT%2BzhoJ1WZ/Mk1rRUfTbxpOokaa0aNnYHu5bpzmvFxOVYuUFG8a0Vsql4zj/hqw1v5tX7tnTkGe8dcGVpTyXG3hJWlCptOO/LP3alOrHyrUZd%2BZPU85i8df8Ff/ANndfsXjP4O%2BA/j1o9ucLrHhXWB4f1mWPu81vODbl%2B%2ByHr0zmpoP%2BCxXwC8Guth%2B078Hfip8IrpW2Tv408CXJtN3rHPbCUSJ6NtGaYn/AAS/%2BJPw6GP2Zv8Ago18ZfCEKc2ula/qUPiDT7b0WOC5VcL7Fj9aWT4Vf8Fm/A0LWvhz9p74L/EOEKVJ8c%2BCbrS3nXvuGnkqCfyrkvnOF0iqiXZ%2BzrL71KnU%2B%2B7Pp34g5Ljv%2BR9wwubrUwVX2Lfn7NSqUfPSjBeS2XrHw6/4KBfsQfFeOM%2BBf2rfAd3LNjy7ObxJBbXJ/wC2MzJJ/wCO161p%2Bpadq9mmo6Vfw3VvKMxz28odHHqGBINfnz8RPgX%2B1x4oeWX4yf8ABGr9n34h3LZ87UPCvii00ueb1Ky3cPmLn3avJ7/9lrwV4au5NSb/AIIwfG3wFesczXXwt%2BLjXpDeqBZ9n5KBT/tzMaP8Skn/ANu1ofnTqR/8mF/a3g9it6%2BY4R9quEhXiv8At6jOnK3nyt%2BR%2BslFfkqNd1/wJxoXiD/gpF4OCfdTXNATWLCH2QMeVFL/AMNufHHwYf8ARv8Agp58VtKiT/ly8e/srxzEf700W5/yFH%2BtdCH8Sk16Sj/7cqYvYeGdf%2BBxRh4%2BVfDY6g/nehVX42P1por8nLT/AIK9fGvRJfs1l/wUc%2BB%2BrTL/AMsfF/wf8T6ex/3jbWxA/A1u6d/wWs/aMtQPtnxY/ZV1z30zV/EOn7v/AAMgGPxqo8X5O9%2BZf%2BAv8qj/ACLjkXD1f/duI8rqf9zsab%2B6rQh%2BLR%2Bo1FfmrYf8FzfjJbY%2B1/Bv4Lazjr/Z37QWnWO76fa0GPxrZs/%2BC8erRAf8JB%2By54SiPddL/aP8M3h/ACRSa3jxVkb3qNesZf8ABOiPBeMq/wADH4Cp/hzHAP8ACWJg/wAD9EaK%2BA7T/gvd8O1x/a37Lvio%2Bv8AYvinRr/8vLuhmtXT/wDgvb%2BzvcN5d9%2By/wDHGE93h8H2k8f/AH0l4c/lWq4myKX/AC/X3S/%2BRNl4d8WTV6VOlP8AwYrBS/LHH3PRXxnZf8Fyv2S7gA33wv8Ai5Yjubr4fycf98SNWjD/AMFvv2DgM6prXjTT/X7Z4A1AY/75iatVxBkj/wCYiH32/NIa8NuPJP3MvqS/wunP/wBIrzPruivkyL/guL/wTI3CPUP2h7myc9Eu/BOsqf0tCK07L/gs9/wTJv8AHkftWaYuf%2Be%2BiajF/wCh2wrRZ5kstsTT/wDA4/5lvwv8Soxv/YuKt3WHqtfeoyR9QUV862f/AAVp/wCCcN9jyP2uPCy5/wCe0k0f/ocYrVtP%2BCnP/BPe9x5P7YfgFc/89vEEUf8A6ERWqzXK5bV4f%2BBx/wDkjiqcAceUfjynFL/uXr//ACpnutFeO2n/AAUM/YMvP9T%2B2d8Lhn/nr47sI/8A0KUVp2v7bn7F99j7F%2B138MJs9PK8fac2fymrRY/AS2rQ/wDA4/8AyRw1OE%2BK6Xx5diF64euv/cJ6fRXA2v7Vv7Ll7/x5ftJ%2BAZs9PK8Y2LfylrQtv2gPgNe/8efxt8Iy56eV4ktW/lJWixOGltUj/wCBR/zOOeSZ3S%2BPC1V60qq/OmjrqKwLb4q/C%2B8/49PiRoEuenl6xA38mq/b%2BLfCt3/x6eJtPlz08u9jb%2BRrRVKb2kvvX%2BZyTweMp/HTkvWMl%2BcUaFFMhube4G6CdHHqjA/yp9WYNNPUKKKKBBRRRQAUUUUAFeM%2BOP8AlIX8L/8AsjPjz/07eEK9mrxnxx/ykL%2BF/wD2Rnx5/wCnbwhQB7NRRRQAUUUUAFFFFABX59/8EhdEx40/az8Y7P8Aj9/a512x346/Z9fnbH4ef%2BtfoJXxf/wSs8O/2L8MfjzqhTB1f9s/x3dA%2BoXxP5H/ALRNcWJp8%2BKoPs5P/wAka/U%2BoyTFrDZDmsL61KdGHy%2Bswk//AEhH2hRXzF4//wCCmv8AwgXjvW/Av/Dvn9p7Wv7F1e5sP7Y0D4T/AGmwv/JlaPz7aX7SPNhfbvR8DcrKcDNZH/D2H/rGp%2B1p/wCGb/8AuqsJZ1lkZOLqar%2B7P/5Wfn0uIcmhJxlV1Wnw1Omn/Po%2BtKxfiP8ADzwZ8XPh9rnwq%2BI2gxar4f8AEukXOl65pk7MqXVpcRNFNEShDAMjMMqQRnIIPNfPngH/AIKa/wDCe%2BO9F8C/8O%2Bf2ntF/trV7aw/tjX/AIT/AGawsPOlWPz7mX7SfKhTdvd8HaqscHFezftJ%2BMPid8PPgF4v%2BIPwZ8OWms%2BJ9B0C51LR9FvYXdNSkgQym1AR0IeVUaNG3YV3ViGAKnrw2Mw2Mi5UZXS30kv/AEqMf1O3B4/B5hFyw8uZLR6SXn9qMfwuY0H7Gv7PC%2BFfFPg7U/CGpavZ%2BNfDdvoPiqXxF4r1PU7rUrCD7T5Mclzd3Mk%2B9Ptc%2BJQ4lG5fn%2BRNud4H/YK/Za%2BHupLrnh/wFqU2pDxcPFEura14x1bUry41caRNowu5ri8upZZ2Gnzy2%2BJGZdpU43IjL4b4j/4KP/E34keFrnxj%2By42h6rYeI/Hc2kfCiWLwkuqN4g06w0hbrVb2RrnW9KtoY4rvz4A7XC7RZuAkrSDy%2BJ8G/t1fEb4ueI9E%2BPFl9ptdO8efDL9nfVY/Cja/e/YdKn8ReLtdtr%2BSD7NPFucxeSjMcpOtrCsySxL5R6TsPsPwx%2Byd8CPBNjolh4O8J3ulL4c8DWng7RJtO8R6hDNaaLavG8FqsqThztMUeZCxkYAhnYMwOj8b/2evhT%2B0Tomn6H8UtH1GYaRqJvtIv8ARPEV9pF9Y3BhlgZ4bywmhuIt0M00ThJAHSRlYFSRXyb8E/2qf2oPjd%2B1J8IPGGp%2BKvCP9ieO/hb4/wBb8OfD3Srq909rWSzv9GgtoNWlM1wl1LH5pRrhLaI20j3CLFJnJ9u/bf1bxJPpnwo%2BG8virVfDukeO/ivYaH4z1Lw3rtxp91DZnT7%2B6SCG9t2int/PvbWztfMjaORluCqlS4oA9Db9nr4WxeBE%2BGWi2Gr6LoEHhq00Gx0zw14p1HS49PsLX/UJa/ZJ4zaOgwvnQlJSqopcqigc7N%2BxR8AD8PLH4X6bZ%2BL9L0uxv7q9M2g/E3X9Ov765uWLXE15fWt7HdX7yMcs1zLKWIBPIGPM/gxqf7QXxR/4Jv8AjnRPhT8TLiXxvaXvj7w38O/GGuakZJpY7DW9V07SLqa6kEhkfyLe2JunEhkI85g%2B454T9nq0%2BKnxRl%2BN/wAAJvBfxB03TfC%2BpaBN4P8AD/jj9oLVINVi1SfT2mu7C51/Sru%2BuoY9qQXQgSa42pdKxRFkEUYB794z/YO/Zn8cS/D43vhvxHpUHwrjhT4f6d4T%2BIeuaHZaN5VtLaRtHbadeQQuwtp57fc6MxhmkiJKMVOun7I/wJk%2BKknxl1jQNZ1nW2e8e2j8R%2BMdV1PT7BrqNorhrSwu7mS0szJE8kTGCKM%2BXLIn3XYH49m8ReK/iV%2Bwd4J0uw%2BNPxEvvj3rE/ifwr8NbTw58R9Ttki1uy1a7tJL27aGcR6tp2mNbp5l/fJKlzBCjGNpr1YZPoLxHpWu%2BFf%2BCnPw6nt/iL4pltvFfwa8YSa5oEvie8bRpLiwv/C8dtcR6c0ptoZVF3dfvVTzCJ2BYjigD0D4C/sifAL9mi7utQ%2BEHhTULS4utMtdMFxq/ijUdWkttPtjIbextmv7iY2trGZZClvCUiUtwnSu28H/APIJm/7Ct9/6Vy1qVl%2BD/wDkEzf9hW%2B/9K5aANSiiigAooooAKKKKACiiigAooooAKKKKACiiigAooooAKKKKACiiigAooooAK8Z/Zf/AOS3/tHf9lmsf/UK8L17NXjP7L//ACW/9o7/ALLNY/8AqFeF6APZqKKKACiiigAooooAKKKKACiiigAooooAKKKKACiiigAooooAKKKKACivHv8AgoOfHI/Yc%2BLB%2BG/9p/2x/wAIFqf2f%2BxN/wBu2fZ3837N5fz%2Bf5XmeXs%2Bfft2/NivF/2LfFn7IGh%2BIPjVo/wS8VeB7D4F38tm3h2DQNQtodDnuItFR9cawETCNokh%2BytcGH5Vm%2B0F8S%2BaaAPsmvGfHH/KQv4X/wDZGfHn/p28IV45/wAEnfE37MXxR1v4mfG39kPUPAWieBPEL6PDoHw38CX1mP7OtrdbxU1q/sbVtun3mo%2BY37l1WT7PYW3mgTCWOPa%2BMvij9r6z/wCCjPgSPwJ8DPhtqVtD8KfG6aHNq3xW1Cyku7Q6n4UMss6R6FOLeVXEQWJGmVg7kyIUCuAfV9FeM/8ACcf8FC/%2BjX/gz/4fjVv/AJl6P%2BE4/wCChf8A0a/8Gf8Aw/Grf/MvQB7NRXjP/Ccf8FC/%2BjX/AIM/%2BH41b/5l6P8AhOP%2BChf/AEa/8Gf/AA/Grf8AzL0AezUV846T%2B0d%2B3brHxn1/4HW/7KHwkXVPDvhfSNdvLl/jrqnkSQajc6lbwohHhjcXVtLnLAqAA8eCxLBeo/4Tj/goX/0a/wDBn/w/Grf/ADL0AezUV4z/AMJx/wAFC/8Ao1/4M/8Ah%2BNW/wDmXo/4Tj/goX/0a/8ABn/w/Grf/MvQB7NRXjP/AAnH/BQv/o1/4M/%2BH41b/wCZeuX8A/tHft2/ETxX438IaP8AsofCSG48B%2BKItC1WS5%2BOuqBJ55NK0/Uw8W3wwSU8nUYVJYKd6OMYAZgD6Ju7Gyv4vJvrOKZD/BLGGH5GsLUfhB8JdYz/AGv8LvDt1nr9p0SB8/8AfSGvO/8AhOP%2BChf/AEa/8Gf/AA/Grf8AzL0f8Jx/wUL/AOjX/gz/AOH41b/5l6mUIT%2BJJ%2BqX%2BREqdOfxRT9Un%2BaZ09/%2Byh%2By1qmf7T/Zr8AXOevn%2BDrF8/nFWPe/sG/sO6jk337G3wrlJ6s3w%2B03P5%2BTmqH/AAnH/BQv/o1/4M/%2BH41b/wCZej/hOP8AgoX/ANGv/Bn/AMPxq3/zL1hLB4OXxUov/t2P/wAic8svy%2BfxUYP1hD/5Egu/%2BCbP7AF7nzv2Nvhwuf8Anj4StY//AEFBWZdf8Erf%2BCdd3nzf2QPBYz/zy0zZ/wCgkVR%2BEX7R37dvxl8KXfi/w5%2Byh8JLa3s/FGt6FJHe/HXVFcz6Xqt1pk7jb4YYbGmtJGQ5yUZSQpyo6j/hOP8AgoX/ANGv/Bn/AMPxq3/zL1k8sy2W9CH/AIBH/wCRMJZNk8t8NT/8Ah/8icrc/wDBIb/gmzdZ839knw2M/wDPOS5T/wBBlFULj/gjJ/wTJuf9Z%2ByjpQz/AM89Y1BP/QbgV3P/AAnH/BQv/o1/4M/%2BH41b/wCZej/hOP8AgoX/ANGv/Bn/AMPxq3/zL1m8myh74en/AOAR/wAjJ5BkUt8JS/8ABcP/AJE86n/4Ijf8EvLjiT9li2H/AFz8Vauv/oN2Kqv/AMEM/wDgl3/yw/ZqlhPrF431r%2Bt4a9P/AOE4/wCChf8A0a/8Gf8Aw/Grf/MvXL/BH9o79u348fBjwh8cfCv7KHwktdL8Z%2BF9P13TbbUPjrqizwwXdtHcRpIE8MMocLIAwVmGQcEjmoeRZK/%2BYan/AOAR/wAiHw3w8/8AmDpf%2BC4/5HJSf8ELv%2BCaL8RfBDVIv9zxvq39bk1Wm/4IP/8ABNuXp8K9dT/d8a6if5zGvXv%2BE4/4KF/9Gv8AwZ/8Pxq3/wAy9H/Ccf8ABQv/AKNf%2BDP/AIfjVv8A5l6TyDI3/wAw0P8AwFFxyDI4fDhoL0jb8mjxS4/4IEf8E27jO74c%2BIhn08YXh/m5qtJ/wb6/8E3H%2B74H8TJ/u%2BLLj%2Bua90/4Tj/goX/0a/8ABn/w/Grf/MvXL/G79o79u34D/Bjxf8cfFX7KHwkutL8GeF9Q13UrbT/jrqjTzQWltJcSJGH8MKpcrGQoZlGSMkDmofDuQv8A5hYf%2BAo6I5XgIfDC3pKa/Kojyx/%2BDev/AIJxvnb4a8Wpn%2B74qk/qtQv/AMG8P/BOp/u6V4zX/d8UH%2BsdfQP/AAnH/BQv/o1/4M/%2BH41b/wCZej/hOP8AgoX/ANGv/Bn/AMPxq3/zL1P%2BrfD7/wCYWH/gP/BNVg6EduZelSqvyrI%2BeX/4N2v%2BCeDcCLxyv08Tr/WGon/4N0/%2BCerfduPHq/TxNH/WCvov/hOP%2BChf/Rr/AMGf/D8at/8AMvR/wnH/AAUL/wCjX/gz/wCH41b/AOZel/qzw9/0Cw%2B7/gmioJbTqL/uLX/%2BaD5wb/g3N/4J%2BHlNX%2BIaHsV8Swf1tqVf%2BDdj9heL/j18d/FGH/rl4ptx/wC2tezfF39o79u34NeFLTxf4j/ZQ%2BElzb3nijRNCjjsvjrqjOJ9U1W10yBzu8MKNizXcbOc5CKxAY4U9R/wnH/BQv8A6Nf%2BDP8A4fjVv/mXpf6scPf9AsPu/wCCV7Of/P2p/wCDsR/80HzvH/wb3fsdQf8AHr8ZPjDF/wBc/GFsP/bSp4/%2BCAv7LUH/AB6/tEfHCL/rn43th/7Z19A/8Jx/wUL/AOjX/gz/AOH41b/5l6P%2BE4/4KF/9Gv8AwZ/8Pxq3/wAy9P8A1ayBbYaP4/8AyRm8NGW86j/7i1//AJoPBov%2BCEH7Pdv/AMev7Vnx/ix08v4gW4/9s6sxf8EPPg3b/wDHt%2B2b%2B0ZF6eX8SIB/7Z17h/wnH/BQv/o1/wCDP/h%2BNW/%2BZeuX8fftHft2/DvxX4I8Iax%2Byh8JJrjx54ol0LSpLb466oUgnj0rUNTLy7vDAITydOmUFQx3ugxgllpcO5ItqC%2B%2BX/yZlLLsLP4uZ/8AcSt/8vOBh/4Is/Du2/49v27P2mY/%2BufxQiH8rOrUP/BHbwzbf8e3/BQn9qWPH9z4soP5Wleuf8Jx/wAFC/8Ao1/4M/8Ah%2BNW/wDmXo/4Tj/goX/0a/8ABn/w/Grf/MvVrIMnW1FffP8A%2BWGEslyyfxQb/wC36v8A8uPK/wDh0hbRpttv%2BCkX7Vyf91eGP0tRVT4F/skz/stf8FDPB3m/tM/FX4ijXfgz4y2j4m%2BLDqn9neTq3hb/AI9v3aeV5nm/P13eVH/dr1//AITj/goX/wBGv/Bn/wAPxq3/AMy9UPA/gf8Aas8Y/tWeHPjd8bvhx8PfDOjeGfh74h0OGHwr8Q77Wrq7utSvtEuEZkuNIsUijRNLlBYO7FpUAXGSN6GVZfhqqqUoWkv703%2BDm1%2BBWHyfLMJVVWlTtJdbzf51JL8Ge60UUV6B6QVx/wAafjz8Mf2fvDtl4l%2BJ2q38Meqaomm6TZaNoF7qt9qF20ckogtrOxhmuLhxFDNKVjjYrHDI7YVGYdhXiX7W3g34nHx38Kfjr8Mfhlf%2BNpPh94tvrrVvCmkX9lbXt1aXmkXtkZrZr6e3tzLHLPCSsk0YMTTbWLBUcA6zxD%2B1L8CPDXwY0b9oG68cm88K%2BJEsT4cvdE0u61GfVjebfs0dra2sUlxcSSBgRHHGz4DEgBWxj%2BJv25f2WfBn7Ow/as8VfFNbDwN9vaxbU7jRr1biO8S7ezltXsvJ%2B1JPFcRyxywtEJITDKZFQRuV8C139mD47r%2Bwx8P/AIF618FdX1a/8MeM9L8QeMNJ8L%2BKrTT7%2BeGW6uL64ttD1H7ZbtbXFrPNFF57SWjPDFKsUg8wMPNPin/wTg/bX8c/sTN4T8CeIdC0nUNK0nxonhn4YeMtCXWr9Tq%2Bq3U1tPNqsWr28B1YWE32eW8lN2Wa5u2aadp5ZpAD9Ia%2Bc/2IvDWn%2BF/2ePFd5ZGQi8/aG8f6leswztP/AAnmqFzwPuqkf5Cvb9W8N%2BMPEHw8Phi6%2BItzo%2BuT6ckVz4m8MadbxPDcbRvnt4L5buKMFgxVJRMFBwS5G6vln9iTVv23vCHwa1rwv4G%2BFXw%2B8ZaXYfF34gw2/irxj8WbrS9U1Qr4x1gPPc2tj4bktoZGfcSsLbDwQqA7FTSbT7FxqTjCUE9Ha/nZ3X3M%2Brv%2BE58E/wDQ4aX/AODCP/4ql/4TnwT/ANDhpX/gwj/%2BKry3/hOP%2BChf/Rr/AMGf/D8at/8AMvR/wnH/AAUL/wCjX/gz/wCH41b/AOZemQepf8Jz4J/6HDSv/BhH/wDFUf8ACc%2BCf%2Bhw0r/wYR//ABVeW/8ACcf8FC/%2BjX/gz/4fjVv/AJl6P%2BE4/wCChf8A0a/8Gf8Aw/Grf/MvQBqX3wM/Yo1T4caT8HdT%2BDvwtuPCOgXv2zQvCs/h7TX03TbndI3nQWxTyoZN0sp3ooOZHOfmOdDT/hx%2ByjpNra2WleA/h7bQ2VppNpZQ2%2Bl2KLbwaXPJcaZEgCgIlpPLLLbqMCCSR3jCsxJ8z%2BCP7R37dvx4%2BDHhD44%2BFf2UPhJa6X4z8L6frum22ofHXVFnhgu7aO4jSQJ4YZQ4WQBgrMMg4JHNdR/wnH/BQv8A6Nf%2BDP8A4fjVv/mXoA1bH4H/ALFWl%2BKdb8c6Z8IPhdb634lguofEesQeH9NS61WO6x9pS5lCb51l2r5gckPgbs4roPG%2BlfAD4meCLn4ZfEjTfB3iDw3eQpFd%2BHtchtLuxnjRlZEeCUNGyqyqQCuAVBHQVxX/AAnH/BQv/o1/4M/%2BH41b/wCZej/hOP8AgoX/ANGv/Bn/AMPxq3/zL0AdXH4O/Zmi0Kz8LxeFfAi6Zp3h240DT9OWxshBa6TcCET6fHHjalrILeAPAAI3EEeVOxcYUn7Pn7DM3wti%2BBs3wQ%2BE7%2BCYL/7dB4Pbw1ph0qO6yT562nl%2BSJMs3zhd3zHnmuJ%2BN37R37dvwH%2BDHi/44%2BKv2UPhJdaX4M8L6hrupW2n/HXVGnmgtLaS4kSMP4YVS5WMhQzKMkZIHNdR/wAJx/wUL/6Nf%2BDP/h%2BNW/8AmXoAm8a/s0fsC/Eqz0TTviL%2Bz/8AB/X7fwzpp0/w3BrfhTSrpNJsyVJt7ZZY2EEWUT5E2r8q8cCrmt/Ab9iLxN8U9N%2BOfiT4M/CrUPG2jLCukeMb7w7psuq2Ihx5Qhu2QzRBMDbtYbccYrN/4Tj/AIKF/wDRr/wZ/wDD8at/8y9H/Ccf8FC/%2BjX/AIM/%2BH41b/5l6APUf%2BE58E/9Dhpf/gwj/wDiqPBh36GZ1B2TX13LESMbke5kZW%2BhUgj2NeXf8Jx/wUL/AOjX/gz/AOH41b/5l65f4u/tHft2/BrwpaeL/Ef7KHwkube88UaJoUcdl8ddUZxPqmq2umQOd3hhRsWa7jZznIRWIDHCkA%2BjqK8Z/wCE4/4KF/8ARr/wZ/8AD8at/wDMvR/wnH/BQv8A6Nf%2BDP8A4fjVv/mXoA9morxn/hOP%2BChf/Rr/AMGf/D8at/8AMvR/wnH/AAUL/wCjX/gz/wCH41b/AOZegD2aivnHx9%2B0d%2B3b8O/FfgjwhrH7KHwkmuPHniiXQtKktvjrqhSCePStQ1MvLu8MAhPJ06ZQVDHe6DGCWXqP%2BE4/4KF/9Gv/AAZ/8Pxq3/zL0AezUV4z/wAJx/wUL/6Nf%2BDP/h%2BNW/8AmXo/4Tj/AIKF/wDRr/wZ/wDD8at/8y9AHs1FeM/8Jx/wUL/6Nf8Agz/4fjVv/mXrl9W/aO/bt0f4z6B8Drj9lD4SNqniLwvq%2Bu2dynx11TyI4NOudNt5kcnwxuDs2qQFQFIISTJUhQwB9HUV4z/wnH/BQv8A6Nf%2BDP8A4fjVv/mXo/4Tj/goX/0a/wDBn/w/Grf/ADL0AezUV4z/AMJx/wAFC/8Ao1/4M/8Ah%2BNW/wDmXo/4Tj/goX/0a/8ABn/w/Grf/MvQB7NRXzjpP7R37dusfGfX/gdb/sofCRdU8O%2BF9I128uX%2BOuqeRJBqNzqVvCiEeGNxdW0ucsCoADx4LEsF6j/hOP8AgoX/ANGv/Bn/AMPxq3/zL0AezUV4z/wnH/BQv/o1/wCDP/h%2BNW/%2BZej/AITj/goX/wBGv/Bn/wAPxq3/AMy9AHs1FeM/8Jx/wUL/AOjX/gz/AOH41b/5l65fwD%2B0d%2B3b8RPFfjfwho/7KHwkhuPAfiiLQtVkufjrqgSeeTStP1MPFt8MElPJ1GFSWCnejjGAGYA%2BjqK8Z/4Tj/goX/0a/wDBn/w/Grf/ADL0f8Jx/wAFC/8Ao1/4M/8Ah%2BNW/wDmXoA9mrxn9l//AJLf%2B0d/2Wax/wDUK8L0f8Jx/wAFC/8Ao1/4M/8Ah%2BNW/wDmXq3%2Byt8OfjT4P1j4oeO/jpoHhfSdU8ffEKLXLPSvCfiW51a3tbWLQdH0xVe4uLKzZpGk06Vyoi2hZEG5jnAB63RRRQAUUUUAFFFFABRRRQAUUUUAFFFFABRRRQAUUUUAFFFFABRRRQAUUUUAFfK%2BrftafFyH9pGbXF8O%2BD2%2BHmkfGC2%2BFzRSaRcHXzcXmn2tw2oR3n2jykg%2B3S29u1p9nJZIfP8APBCw19UV4zefsQ/Di8%2BPzfHV/HPipbaXxXD4qufAqXVr/Yk%2BvxacunR6oym3%2B0%2BatukY8oXAtzJEkxhMo8ygD2aiiigAooooA%2BY/Dn7S3xMh/wCCgHij4P8AxG1jw94T8Nrr9povgyLUfhFrKXXjGD%2BwINRxB4ja7XTmlju7nUALQQvL5dpMAoLNIv05Xlfiz9lqDx/8ZNI%2BKfj343%2BNdX0rw9rsetaB4AuDpkWjWOoR27wRzhobJL2XZ5kkipNdSRiR92z5EC%2BqUAFFFFAHi/8AwUF%2BLvxw/Z%2B/ZH8afHr4BXvhSPWPBOhXeuXUHjDRbm%2Btru0tbaWZ7dEtrq2ZJXZEUSFyqAsSj8CvP/Hn7Wnxc8F/HjxbqfhTw74Qi%2BHnhD4x%2BEfh94ys5tIuDreq6rrsGipHqEN2lwsMccH9uaTGYpLeV5EhnxLHtQV7D%2B1j%2BzjZftafAjXv2fda%2BKvinwjpPieylsdcv/CC6d9rubKWJ4prbdf2l1GiOr8siLICo2uvOeLg/YB8HT/EWz%2BIvir44%2BPtdY6zpOueJtG1CXSorHxPrmmJGljq17HbWETLcRCC0wts0EDGxti8TGPJAPe6KKKACvF/2yfi78cPgla%2BAfGPwsvfCn9jah8TPDnh7xfY%2BINFubm6ubXVdZsdNBs5YbqFLaSNbmWTfIk6koi7OSa9oryr9q79lt/2qvDeheF5/j7438DW%2BheJLDXUbwXDo7Pd3tjeQXlm0p1LT7wbYri3jcLGEDcrJvU7QAecfs8/tK/EzW/2q/FvwR%2BKGr%2BHvCenQ%2BKdbt/BPhKT4Razplzr1tC6Sm/t9buLv7BqDsZJZZYraAuMl2K4Yn6cryXSf2UQ/wAZNF%2BMvxH/AGgPHfjWbwvd3l34T0LxCNJhsNHurm3ktZLiJbDT7aWV/s808K%2BfJKqLO%2B0AkEetUAFFFFAHg/7Wvxm/aC%2BA3iTwv4u8GeIPBF74e1rxdoXh228C33hy8k1zXLm9vlhuWtL2O9WKEwWrSXWxrSYeXaTM7xoC8fH/ALEv7Wnxc%2BKmvfDjTPH/AId8IWXhf4v/AAcuPiD8MtP8LaRcWk2gaVbT6Wg0%2B9aS4ljuZPs%2Btacwlhjt0Vo508ogK1ehfEn9jlfiJ%2B07on7U1v8AtHfEDQtV8P6GNK0zQNMh0S40uCB5vNuWjS%2B0y4mhluQI45pYpUdo4Y0VkA5P2ef2Ifhx%2Bzj4ui8VeG/HHirWo9J8PS%2BHvBWkeILq1e18JaLJcJcPp1gILeKTyS8NsM3DzyhLSBBIFQCgD2aiiigAr5f/AGufjx%2B0v8FviJp/hTSofAHjXR/HMOtW2i/DmLwffSawlraaHdXcl/cTi9eK6thdRW9tJCLWIH7fCgmMjIkn1BXh037E1xH%2B0f4r/aa0T9qv4l6dq/i3TYdOudLhg8Pz2mn2cMDRw21m1zpMtzbxLK73WxZtrzuXcODtoAZ%2Bwh%2B0J43%2BPnw8vLr4r%2BPtGvvF2nCzbX/Ddl8LtX8I3mgPPbLKILmx1e6nuHBbf5dwBHHIqHaG2k17pXm/wO/Zu074M%2BJ/EnxD1j4peKfHHirxXFY2%2BseJ/FzWC3L2lmJvstqkWn2trbRxRtc3LjbCGZriQszZGPSKACiiigD4o/aY/bh%2BP3wO%2BPt/8B9R03wh4tGsPZJ4S/tH4Z6votto%2Bo3viHQ9M0hnvLu8lt/ECRy6xDLcNp4ia3a0%2BfyWlRV9/wD2Vfi/8SPiMPH/AMPvjEdEn8VfDTx43hrWdV8NadNZ2Gp%2BZpenatb3ENvNPPJb5tdUt0eNppcSRyYYgjHLfEv/AIJ5%2BDfjbr1x4g%2BNvx8%2BIvip7aO4/wCEOhv7nSrZPCNxJdW91Hd2Bs7CFnuIZbS2MUl21yU8rvvff6P8A/gLofwD8Patptl4v1zxJq3iLXpta8T%2BKPEr2xv9XvpI4ofOmFrBBAuyCC3gRIoo0WOCNQvBJAO6ooooAK%2BJv2ov2x/2sPg78ZvFHwr8H%2BGvDnjfVdL8MX/iHwlGnwT1%2BGTSHS70%2B3hWFzeuviaT7Jqc6zDS/KeFoisgj84Rj7ZrxHWv2L9R8ReP2%2BJ%2BuftafFC51uwt72HwbdumghfCq3c0Lzm0jGlBJ2aOFIA16LorEXAIZ2cgHS/sqfFub4y/CkeJtR%2BJ2jeKdRtdVubHVrrR/BF/4bNncRN81rPpmo3E91aTopXckzBiGVtqqwr0muE%2BAfwD0D4A6FrNjp/i3XPEeq%2BJvEEuueJ/E3iSW3a91W/khhg82QW0MMEYWC3t4VSKKNFSFAFzknu6ACiiigAooooAKKKKACiiigCj4o8Q2HhLw1qPivVQ5tdMsZru5ES5by40LtgdzhTXzn%2BxN%2B0n8a/H/inR/Bnxs8PeDLMeOvhbZfEbwzD4M0q4tBpkd5cE3en3ZmuJRdzRvc2z/bEEAnaWYmCPaC/0td2lrf2stje26TQzRtHNFKoZXUjBUg8EEcYryH9mb9ivwF%2BzBqr6voHxB8W%2BJZbbwxY%2BGfDo8WXtrMNA0KzeR7fTbU29vCWjUyfNLOZriQRxeZM/lrgA9iooooAK4X9qDx58RfhZ%2BzR8RPid8H/Ci694t8OeBdX1TwtobWM10NR1G3s5Zba2MMDLLMJJURPLjYO27CkEg13VZ3i3RL/xL4Y1Dw/pfivUdCub20kht9a0hYGurF2UgTRC4iliLqeQJI3TI%2BZWGQQDy79in4tT/FH4Z31lq3xC0DWdT8O6ounXmmaJ8MNU8HPoaC2gkis7jStUuZ7mFwjiRXby0eKWLYmBvf2KvPPgP%2BztpPwOvPEviO5%2BIniTxj4k8X6jDeeIvFPit7MXd0YbdLeCIR2NtbW0UUcaAKscKZLOzFmZmPodABRRRQB8uftUftY/FD9nD4veOLL4laN4S8RfC%2Bw/Z38X%2BPbbQrfRLhNVdtEGlrPbXFzJcvbzRTrfTgILZCoRMu%2BWFdv%2BzP8AF/4%2Bap8XPGX7Ov7Sz%2BErzxR4Y8MeHvEseq%2BCtJubGykstWfUrdbYw3NzcuZYbjSLsGUSBZEeJvLjO5ag%2BMf7Cvh346fHVvjL48%2BO3jmXTZvBWp%2BEb74ewwaL/Yl3o2pLbfb7SQvprXpE7WkDs4ug6lCEZEZkPSfs7/su6H%2Bz7fa14jn%2BKHi3xv4h1%2B1sLK/8T%2BNrm0kvTYWKSLZ2Y%2ByW1vH5URnuHBKGR3uZXd3Zs0Aen0UUUAFfInxr/aX/AGtvBeuftAeBbfwr4M8WXvgLw/4U8SfDax0n4f6nfzrHqOq6lCEu7WK8eXUZ4F02OdTbC3JckKvyq1fXdeFy/sUeIYvjp42%2BP%2BhftofFbStW8b6RY6Zc2NlZ%2BGGtNNtrK4uZ7NLYS6K8n7o3l0oMzyl1nIk8wqhUA6v9lT4tzfGX4UjxNqPxO0bxTqNrqtzY6tdaP4Iv/DZs7iJvmtZ9M1G4nurSdFK7kmYMQyttVWFek1wnwD%2BAegfAHQtZsdP8W654j1XxN4gl1zxP4m8SS27Xuq38kMMHmyC2hhgjCwW9vCqRRRoqQoAuck93QAUUUUAfG37S37Xf7S37PHxmg%2BG2sp8M/Gt9rcEE3hGHTvC17aS%2BC7zUvEOmeHtIm1OV76YXUU7avOC0S2cjixuljDL5hi9x/ZV%2BL/xI%2BIw8f/D74xHRJ/FXw08eN4a1nVfDWnTWdhqfmaXp2rW9xDbzTzyW%2BbXVLdHjaaXEkcmGIIxwtt/wTV8JNdfEN/EP7S/xO1m3%2BJOvHXNYt9SOheZZ6lFcQz6fc211FpaXSmwe3txaRvNJFEsKBkfnPrHwD%2BAuh/APw9q2m2Xi/XPEmreItem1rxP4o8SvbG/1e%2Bkjih86YWsEEC7IILeBEiijRY4I1C8EkA7qiiigBlz9p%2BzSfY9nnbD5Xm527scZxzjNfEHxW/a5/bT%2BGnxE1z4bW9t4D8Z694YvfDVvq3jrwR8Fdf1aPw5b6s1497YS6VZ6lPd3M0cNlY3RMU6fu7qFpYEBiaT7eu4ZLi1lt4bqSB5I2VZ4gpeMkYDLuBXI6jII9Qa%2Be/gx%2BwF4g%2BAnw2uPhp8O/wBur4xRR3WrPqc2s3ll4Tn1CW7leWS5nmmfQj9pkneXdJJOJHzGmwoBggHrPwE%2BIdl8Vvg74f8AiFYfEDRvFSanp4kfX/D%2BkzWFpdyAlZClrPNNLbFXVkaGSR3jZWVjuUgdfXJfAv4L%2BEv2ffhfp3wp8FXN/cWVhLdXE19qtyJrq%2Bu7q5lurq6mcKoaWa4nmlfaqrukO1VXCjraACqPieHxJc%2BG9Qt/Bup2Nlq8llKul3mp2D3VtBcFCI5JYY5YmmjVsFkWSMsAQHUncL1ZvjHQb/xR4Wv/AA7pfi3UtBuby1eKDWtHEBurFyOJohcRSxF1PIEkbocfMrDIoA%2BJvhT%2B3B%2B1l8bvi5f/AAA%2BFdj8P4fHKPrc48beK/hbrWiR6hpOkWmiyfZptCu79NRsZWvPEcUcck8xQwrLcRxOsqg/W37Nnxm0/wDaO/Z08A/tDaVpEmn2vjzwVpXiK2sJpNz20d7ZxXKxM2BkqJQpOBnFeRah/wAE1PB2o63dfEh/2lvilD8RNQnuV1L4n2t5pEWsXVjPaQWsuneWumiyitjHa2zARW0ciywrKJBJlz738PvAfhP4WeAtE%2BGPgPR49O0Pw5pFtpei6fESUtrS3iWKGJc5OFRFUZ9KANeiiigDl/jTqPjjRvhbrWt/DnxDY6Xq1hZm6hvtQ8H3viBEjjIeUDTrGeC5vJGiV1SKGQOXZcK5%2BRvi34a/8FEfj9rniHw9rvjC48I%2BBPBupy6j/wAJR48vfgZ4iuLXUb2112TSYvtTJfRr4ZlltbaImLVGeS3YiN/ubK%2B2/iZ4M13x74Sm8OeG/ilr/g28kljeLX/DMVi93BtYEqq39tcwMGAKkPE3BOMHBHiuof8ABObwpq/gG9%2BFGqftIfE248L%2BI7m7ufiFob3Gj7PGU93cvPdyX0o00Tw%2BcHELR2UlrGIUVFRQCSAfRNFFFABRRRQAUUUUAFFFFABRRRQAUUUUAFFFFABRRRQAUUUUAFFFFABRRRQAUUUUAFFFFABRRRQAUUUUAFFFFABRRRQAUUUUAFFFFABRRRQAUUUUAFFFFABRRRQAUUUUAFFFFABRRRQAUUUUAFFFFABRRRQAUUUUAFFFFABRRRQAUUUUAFFFFABRRRQAUUUUAFFFFABRRRQAUUUUAFFFFABRRRQAUUUUAFFFFABRRRQAUUUUAFFFFABRRRQAUUUUAFFFFABRRRQAUUUUAFFFFABRRRQAUUUUAFFFFABRRRQAUUUUAFFFFABRRRQAUUUUAFFFFAH/2Q%3D%3D\">"
     },
     "metadata": {}
    }
   ],
   "source": [
    "s.run(tf.global_variables_initializer())\n",
    "\n",
    "BATCH_SIZE = 512\n",
    "EPOCHS = 40\n",
    "\n",
    "# for logging the progress right here in Jupyter (for those who don't have TensorBoard)\n",
    "simpleTrainingCurves = matplotlib_utils.SimpleTrainingCurves(\"cross-entropy\", \"accuracy\")\n",
    "\n",
    "for epoch in range(EPOCHS):  # we finish an epoch when we've looked at all training samples\n",
    "    \n",
    "    batch_losses = []\n",
    "    for batch_start in range(0, X_train_flat.shape[0], BATCH_SIZE):  # data is already shuffled\n",
    "        _, batch_loss = s.run([step, loss], {input_X: X_train_flat[batch_start:batch_start+BATCH_SIZE], \n",
    "                                             input_y: y_train_oh[batch_start:batch_start+BATCH_SIZE]})\n",
    "        # collect batch losses, this is almost free as we need a forward pass for backprop anyway\n",
    "        batch_losses.append(batch_loss)\n",
    "\n",
    "    train_loss = np.mean(batch_losses)\n",
    "    val_loss = s.run(loss, {input_X: X_val_flat, input_y: y_val_oh})  # this part is usually small\n",
    "    train_accuracy = accuracy_score(y_train, s.run(classes, {input_X: X_train_flat}))  # this is slow and usually skipped\n",
    "    valid_accuracy = accuracy_score(y_val, s.run(classes, {input_X: X_val_flat}))  \n",
    "    simpleTrainingCurves.add(train_loss, val_loss, train_accuracy, valid_accuracy)"
   ]
  },
  {
   "cell_type": "markdown",
   "metadata": {},
   "source": [
    "# Submit a linear model"
   ]
  },
  {
   "cell_type": "code",
   "execution_count": 121,
   "metadata": {},
   "outputs": [],
   "source": [
    "## GRADED PART, DO NOT CHANGE!\n",
    "# Testing shapes \n",
    "grader.set_answer(\"9XaAS\", grading_utils.get_tensors_shapes_string([W, b, input_X, input_y, logits, probas, classes]))\n",
    "# Validation loss\n",
    "grader.set_answer(\"vmogZ\", s.run(loss, {input_X: X_val_flat, input_y: y_val_oh}))\n",
    "# Validation accuracy\n",
    "grader.set_answer(\"RMv95\", accuracy_score(y_val, s.run(classes, {input_X: X_val_flat})))"
   ]
  },
  {
   "cell_type": "code",
   "execution_count": 122,
   "metadata": {},
   "outputs": [
    {
     "output_type": "stream",
     "name": "stdout",
     "text": "Submitted to Coursera platform. See results on assignment page!\n"
    }
   ],
   "source": [
    "# you can make submission with answers so far to check yourself at this stage\n",
    "grader.submit(COURSERA_EMAIL, COURSERA_TOKEN)"
   ]
  },
  {
   "cell_type": "markdown",
   "metadata": {},
   "source": [
    "# MLP with hidden layers"
   ]
  },
  {
   "cell_type": "markdown",
   "metadata": {},
   "source": [
    "Previously we've coded a dense layer with matrix multiplication by hand. \n",
    "But this is not convenient, you have to create a lot of variables and your code becomes a mess. \n",
    "In TensorFlow there's an easier way to make a dense layer:\n",
    "```python\n",
    "hidden1 = tf.layers.dense(inputs, 256, activation=tf.nn.sigmoid)\n",
    "```\n",
    "\n",
    "That will create all the necessary variables automatically.\n",
    "Here you can also choose an activation function (remember that we need it for a hidden layer!).\n",
    "\n",
    "Now define the MLP with 2 hidden layers and restart training with the cell above.\n",
    "\n",
    "You're aiming for ~0.97 validation accuracy here."
   ]
  },
  {
   "cell_type": "code",
   "execution_count": 110,
   "metadata": {},
   "outputs": [],
   "source": [
    "# write the code here to get a new `step` operation and then run the cell with training loop above.\n",
    "# name your variables in the same way (e.g. logits, probas, classes, etc) for safety.\n",
    "### YOUR CODE HERE ###\n",
    "input_layer = tf.layers.dense(input_X, 784, activation=tf.nn.sigmoid)\n",
    "hidden1 = tf.layers.dense(input_layer, 256, activation=tf.nn.sigmoid)\n",
    "hidden2 = tf.layers.dense(hidden1, 256, activation=tf.nn.sigmoid)\n",
    "logits = tf.layers.dense(hidden2, 10)\n",
    "probas = tf.nn.softmax(logits,-1,'softmax')\n",
    "classes = tf.argmax(probas,-1)\n",
    "\n",
    "loss = tf.reduce_mean(tf.nn.softmax_cross_entropy_with_logits(labels = input_y,logits = logits)) \n",
    "optimizer = tf.train.AdamOptimizer()\n",
    "step = optimizer.minimize(loss)"
   ]
  },
  {
   "cell_type": "markdown",
   "metadata": {},
   "source": [
    "# Submit the MLP with 2 hidden layers\n",
    "Run these cells after training the MLP with 2 hidden layers"
   ]
  },
  {
   "cell_type": "code",
   "execution_count": 114,
   "metadata": {},
   "outputs": [],
   "source": [
    "## GRADED PART, DO NOT CHANGE!\n",
    "# Validation loss for MLP\n",
    "grader.set_answer(\"i8bgs\", s.run(loss, {input_X: X_val_flat, input_y: y_val_oh}))\n",
    "# Validation accuracy for MLP\n",
    "grader.set_answer(\"rE763\", accuracy_score(y_val, s.run(classes, {input_X: X_val_flat})))"
   ]
  },
  {
   "cell_type": "code",
   "execution_count": 115,
   "metadata": {},
   "outputs": [
    {
     "output_type": "stream",
     "name": "stdout",
     "text": "Submitted to Coursera platform. See results on assignment page!\n"
    }
   ],
   "source": [
    "# you can make submission with answers so far to check yourself at this stage\n",
    "grader.submit(COURSERA_EMAIL, COURSERA_TOKEN)"
   ]
  },
  {
   "cell_type": "code",
   "execution_count": null,
   "metadata": {},
   "outputs": [],
   "source": []
  }
 ],
 "metadata": {
  "kernelspec": {
   "display_name": "Python 3",
   "language": "python",
   "name": "python3"
  },
  "language_info": {
   "codemirror_mode": {
    "name": "ipython",
    "version": 3
   },
   "file_extension": ".py",
   "mimetype": "text/x-python",
   "name": "python",
   "nbconvert_exporter": "python",
   "pygments_lexer": "ipython3",
   "version": "3.5.0-final"
  }
 },
 "nbformat": 4,
 "nbformat_minor": 1
}