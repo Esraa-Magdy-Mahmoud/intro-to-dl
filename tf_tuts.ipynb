{
 "cells": [
  {
   "cell_type": "code",
   "execution_count": null,
   "metadata": {},
   "outputs": [],
   "source": [
    "## @package tf_tutorials\n",
    "#  This a place where I add any helper notes i learn on tensorflow\n",
    "#"
   ]
  },
  {
   "cell_type": "markdown",
   "metadata": {},
   "source": [
    "### Input types in tf\n",
    "1- A placeholder : you know the type of the variable, the shape but you'll fed the data during execution\n",
    "(EX: input features).\n",
    "\n",
    "2- Variable : a tensor with some value that will be updated during execution(EX:weights)\n",
    "\n",
    "3- constants : a tensor with value that can't be changed"
   ]
  },
  {
   "cell_type": "code",
   "execution_count": 36,
   "metadata": {},
   "outputs": [],
   "source": [
    "import tensorflow as tf\n",
    "import numpy as np"
   ]
  },
  {
   "cell_type": "code",
   "execution_count": null,
   "metadata": {},
   "outputs": [],
   "source": [
    "# placeholder example\n",
    "x = tf.placeholder(tf.float32, (None, 10),name=\"x\") "
   ]
  },
  {
   "cell_type": "code",
   "execution_count": null,
   "metadata": {},
   "outputs": [],
   "source": [
    "len(x.shape)"
   ]
  },
  {
   "cell_type": "code",
   "execution_count": null,
   "metadata": {},
   "outputs": [],
   "source": [
    "# variable example\n",
    "w = tf.get_variable(\"w\", shape=(10, 20), dtype=tf.float32)\n",
    "w = tf.Variable(tf.random_uniform((10, 20)), name=\"w\")"
   ]
  },
  {
   "cell_type": "code",
   "execution_count": null,
   "metadata": {},
   "outputs": [],
   "source": [
    "# constant example\n",
    "c = tf.constant(np.ones((4, 4)))"
   ]
  },
  {
   "cell_type": "markdown",
   "metadata": {},
   "source": [
    "### Operations in tensorflow\n",
    "### Matrix multiplication"
   ]
  },
  {
   "cell_type": "code",
   "execution_count": null,
   "metadata": {},
   "outputs": [],
   "source": [
    "## Matrix multiplication \n",
    "z = x @ w\n",
    "print(z)"
   ]
  },
  {
   "cell_type": "markdown",
   "metadata": {},
   "source": [
    "### Every node in the graph is an operation\n",
    "### To list all current operations(nodes) in the default graph use the following comman\n"
   ]
  },
  {
   "cell_type": "code",
   "execution_count": null,
   "metadata": {},
   "outputs": [],
   "source": [
    "tf.get_default_graph().get_operations()"
   ]
  },
  {
   "cell_type": "code",
   "execution_count": null,
   "metadata": {},
   "outputs": [],
   "source": [
    "### Listint output of the operations in the default graph\n",
    "tf.get_default_graph().get_operations()[0].outputs"
   ]
  },
  {
   "cell_type": "markdown",
   "metadata": {},
   "source": [
    "### Running a graph\n",
    "#### we need a session object that encapsulates the environment in which operations are executed and tensor objects are evaluated\n",
    "#### tf.Session owns necessary resources to execute your graph, such as tf.Variable, that occupy RAM.\n",
    "#### It is important to release these resources when they are no longer required with tf.Session.close()"
   ]
  },
  {
   "cell_type": "markdown",
   "metadata": {},
   "source": [
    "### Example 1"
   ]
  },
  {
   "cell_type": "code",
   "execution_count": null,
   "metadata": {},
   "outputs": [],
   "source": [
    "#####Example\n",
    "# Definig a graph\n",
    "a = tf.constant(5.0)\n",
    "b = tf.constant(6.0)\n",
    "c = a * b\n",
    "## Create a session \n",
    "s = tf.InteractiveSession()\n",
    "print(c) # here just looking at the type\n",
    "print(s.run(c)) # that's how you run the graph\n"
   ]
  },
  {
   "cell_type": "markdown",
   "metadata": {},
   "source": [
    "### Note on variables \n",
    "# variables are defined and initialized outside the session,\n",
    "# so we need to get this initialized value inside the graph execution environment\n",
    "s.run(tf.global_variables_initializer())"
   ]
  },
  {
   "cell_type": "markdown",
   "metadata": {},
   "source": [
    "##### Example on variables initialization"
   ]
  },
  {
   "cell_type": "code",
   "execution_count": null,
   "metadata": {},
   "outputs": [],
   "source": [
    "# Definig the graph\n",
    "tf.reset_default_graph()\n",
    "a = tf.constant(np.ones((2, 2), dtype=np.float32))\n",
    "b = tf.Variable(tf.ones((2, 2)))\n",
    "c = a @ b\n",
    "## running the graph \n",
    "s = tf.InteractiveSession()\n",
    "#s.run(c)  # will create error \"Attempting to use uninitialized value Variable\"\n",
    "## the correct way to run\n",
    "s.run(tf.global_variables_initializer())\n",
    "s.run(c)\n",
    "tf.Session.close(s)"
   ]
  },
  {
   "cell_type": "markdown",
   "metadata": {},
   "source": [
    "### Example on feeding a placeholder"
   ]
  },
  {
   "cell_type": "code",
   "execution_count": null,
   "metadata": {},
   "outputs": [],
   "source": [
    "# Definig the graph\n",
    "tf.reset_default_graph()\n",
    "a = tf.placeholder(np.float32, (2, 2))\n",
    "b = tf.Variable(tf.ones((2, 2)))\n",
    "c = a @ b\n",
    "## running the graph \n",
    "s = tf.InteractiveSession()\n",
    "s.run(tf.global_variables_initializer())\n",
    "# s.run(c) ## Incorrect will give error: \"you must feed the placeholder\"\n",
    "s.run(c, feed_dict={a: np.ones((2, 2))})\n",
    "tf.Session.close(s)"
   ]
  },
  {
   "cell_type": "markdown",
   "metadata": {},
   "source": [
    "### By default all inputs defined as tf.variable are trainable in tf and could be updated in backpropagation.\n",
    "### you can change that by definig the varaible like this:\n",
    "### x = tf.get_variable(\"x\", shape=(), dtype=tf.float32, trainable=False)"
   ]
  },
  {
   "cell_type": "markdown",
   "metadata": {},
   "source": [
    "### Logging with Tensor board:\n",
    "Tensor board is a visual tool to see the plots of any statistics from the code\n",
    "To use tensor board :\n",
    "- Add summary to the graph\n",
    "    - Add a summary for each variable.\n",
    "    - merge all these summaries together\n",
    "- After starting the interactive session:\n",
    "    - create a summary writer\n",
    "    - add to summary\n",
    "    - flush the data to disk to visualize it\n",
    "After you run the code in the terminal run :\n",
    "tensorboard --logdir=./logs\n",
    "\n",
    "### Model checkpoints:\n",
    "save the variables state with tf.train.saver\n",
    "and you can restore them with saver.restore(s,\"logs/2/model.ckpt-50\")\n",
    "#### Note: only tf.variables will be stored so the graph need to be defined in the same way before storing\n"
   ]
  },
  {
   "cell_type": "markdown",
   "metadata": {},
   "source": [
    "### Example on tf optimizers"
   ]
  },
  {
   "cell_type": "code",
   "execution_count": 44,
   "metadata": {},
   "outputs": [],
   "source": [
    "'''\n",
    "Create the graph\n",
    "'''\n",
    "tf.reset_default_graph()\n",
    "x = tf.get_variable(\"x\", shape=(), dtype=tf.float32)\n",
    "f = x ** 2\n",
    "'''\n",
    "Create summary for x,f\n",
    "'''\n",
    "tf.summary.scalar('curr_x',x)\n",
    "tf.summary.scalar('curr_f',f)\n",
    "summaries = tf.summary.merge_all()\n",
    "##f = tf.Print(f,[x,f],\"x,f: \") # output synced value for x,f\n",
    "'''\n",
    "minimize f with respect to x using gradient descent\n",
    "'''\n",
    "optimizer = tf.train.GradientDescentOptimizer(0.1)\n",
    "step = optimizer.minimize(f, var_list=[x])\n",
    "### display all trainable variables\n",
    "tf.trainable_variables()\n",
    "'''\n",
    "Start the session\n",
    "'''\n",
    "s = tf.InteractiveSession()\n",
    "'''\n",
    "creates summary writer\n",
    "'''\n",
    "summary_writer = tf.summary.FileWriter(\"logs/2\",s.graph)\n",
    "s.run(tf.global_variables_initializer())\n",
    "for i in range(10):\n",
    "     _,curr_summary= s.run([step,summaries])\n",
    "     summary_writer.add_summary(curr_summary,i)\n",
    "     summary_writer.flush()\n",
    "tf.Session.close(s)\n",
    "    "
   ]
  },
  {
   "cell_type": "code",
   "execution_count": null,
   "metadata": {},
   "outputs": [],
   "source": []
  },
  {
   "cell_type": "markdown",
   "metadata": {},
   "source": [
    "### Example on linear regression"
   ]
  },
  {
   "cell_type": "code",
   "execution_count": 45,
   "metadata": {},
   "outputs": [
    {
     "output_type": "stream",
     "name": "stdout",
     "text": "ground_truth_weights:  [[ 0.00969964]\n [ 0.23637935]\n [ 0.99627166]]\n"
    }
   ],
   "source": [
    "'''\n",
    "Generate a model dataset\n",
    "'''\n",
    "N = 1000\n",
    "D = 3\n",
    "x = np.random.random((N,D))\n",
    "w = np.random.random((D,1))\n",
    "y = x @ w + np.random.randn(N,1)*0.20\n",
    "print(\"ground_truth_weights: \", w)"
   ]
  },
  {
   "cell_type": "code",
   "execution_count": 53,
   "metadata": {},
   "outputs": [
    {
     "output_type": "stream",
     "name": "stdout",
     "text": "[[ 0.04280057]\n [ 0.22732031]\n [ 0.98404074]]\n[[ 0.04280057]\n [ 0.22732031]\n [ 0.98404074]]\n"
    }
   ],
   "source": [
    "'''\n",
    "Building the graph \n",
    "'''\n",
    "tf.reset_default_graph()\n",
    "features = tf.placeholder(tf.float32,shape = (None, D))\n",
    "target = tf.placeholder(tf.float32,shape = (None,1))\n",
    "weights = tf.get_variable(\"w\",shape=(D,1),dtype=tf.float32)\n",
    "predictions = features @ weights\n",
    "# define loss function\n",
    "loss = tf.reduce_mean((target-predictions)**2)\n",
    "# optimizer\n",
    "optimizer = tf.train.GradientDescentOptimizer(0.1)\n",
    "step = optimizer.minimize(loss)\n",
    "'''\n",
    "executing session\n",
    "'''\n",
    "s = tf.InteractiveSession()\n",
    "# model checkpoint\n",
    "saver = tf.train.Saver(tf.trainable_variables())\n",
    "s.run(tf.global_variables_initializer())\n",
    "for i in range(300):\n",
    "    _,curr_loss,curr_weights = s.run([step,loss,weights],\n",
    "                                    feed_dict = {features:x,\n",
    "                                                target:y})\n",
    "    if i%50 == 0:\n",
    "        saver.save(s,\"logs/2/model.ckpt\",global_step=i)\n",
    "        print(curr_loss)\n",
    "print(s.run(weights))\n",
    "tf.Session.close(s)"
   ]
  },
  {
   "cell_type": "code",
   "execution_count": 47,
   "metadata": {},
   "outputs": [
    {
     "output_type": "stream",
     "name": "stdout",
     "text": "1.2.1\n"
    }
   ],
   "source": [
    "print(tf.__version__)"
   ]
  },
  {
   "cell_type": "code",
   "execution_count": null,
   "metadata": {},
   "outputs": [],
   "source": []
  }
 ],
 "metadata": {
  "kernelspec": {
   "display_name": "Python 3",
   "language": "python",
   "name": "python3"
  },
  "language_info": {
   "codemirror_mode": {
    "name": "ipython",
    "version": 3
   },
   "file_extension": ".py",
   "mimetype": "text/x-python",
   "name": "python",
   "nbconvert_exporter": "python",
   "pygments_lexer": "ipython3",
   "version": "3.5.0-final"
  }
 },
 "nbformat": 4,
 "nbformat_minor": 4
}